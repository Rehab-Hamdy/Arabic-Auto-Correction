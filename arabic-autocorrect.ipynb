{
 "cells": [
  {
   "cell_type": "markdown",
   "metadata": {},
   "source": [
    "<h1>Arabic Auto Correction Using LSTMs and Transformers (●'◡'●)</h1>"
   ]
  },
  {
   "cell_type": "markdown",
   "metadata": {},
   "source": [
    "<h2>Importing Libraries</h2>"
   ]
  },
  {
   "cell_type": "code",
   "execution_count": 2,
   "metadata": {
    "execution": {
     "iopub.execute_input": "2025-05-02T09:29:40.857253Z",
     "iopub.status.busy": "2025-05-02T09:29:40.856569Z",
     "iopub.status.idle": "2025-05-02T09:29:40.865074Z",
     "shell.execute_reply": "2025-05-02T09:29:40.864183Z",
     "shell.execute_reply.started": "2025-05-02T09:29:40.857218Z"
    },
    "trusted": true
   },
   "outputs": [],
   "source": [
    "import re\n",
    "import nltk\n",
    "import torch\n",
    "import emoji\n",
    "import random\n",
    "import string \n",
    "import numpy as np\n",
    "import pandas as pd \n",
    "import seaborn as sns\n",
    "import tensorflow as tf\n",
    "from datasets import Dataset\n",
    "from collections import Counter\n",
    "import matplotlib.pyplot as plt\n",
    "from tensorflow.keras.models import Model\n",
    "from tensorflow.keras.optimizers import Adam\n",
    "from transformers import TrainingArguments, Trainer\n",
    "from tensorflow.keras.callbacks import EarlyStopping\n",
    "from sklearn.model_selection import train_test_split\n",
    "from tensorflow.keras.layers import Input, Embedding, LSTM, Dense\n",
    "from transformers import AutoTokenizer, AutoModelForMaskedLM, DataCollatorForLanguageModeling\n",
    "import warnings\n",
    "warnings.filterwarnings(\"ignore\")"
   ]
  },
  {
   "cell_type": "markdown",
   "metadata": {},
   "source": [
    "<h2>Load and Explore the Dataset</h2>"
   ]
  },
  {
   "cell_type": "code",
   "execution_count": 3,
   "metadata": {
    "execution": {
     "iopub.execute_input": "2025-05-02T09:29:43.961470Z",
     "iopub.status.busy": "2025-05-02T09:29:43.961194Z",
     "iopub.status.idle": "2025-05-02T09:29:44.593753Z",
     "shell.execute_reply": "2025-05-02T09:29:44.593033Z",
     "shell.execute_reply.started": "2025-05-02T09:29:43.961451Z"
    },
    "trusted": true
   },
   "outputs": [],
   "source": [
    "# load train and validation data\n",
    "df_train = pd.read_csv('/kaggle/input/arabic/train.csv')\n",
    "df_val = pd.read_csv('/kaggle/input/arabic/valid.csv')"
   ]
  },
  {
   "cell_type": "code",
   "execution_count": 4,
   "metadata": {
    "execution": {
     "iopub.execute_input": "2025-05-02T09:29:44.595550Z",
     "iopub.status.busy": "2025-05-02T09:29:44.594982Z",
     "iopub.status.idle": "2025-05-02T09:29:44.620682Z",
     "shell.execute_reply": "2025-05-02T09:29:44.619910Z",
     "shell.execute_reply.started": "2025-05-02T09:29:44.595521Z"
    },
    "trusted": true
   },
   "outputs": [
    {
     "data": {
      "text/html": [
       "<div>\n",
       "<style scoped>\n",
       "    .dataframe tbody tr th:only-of-type {\n",
       "        vertical-align: middle;\n",
       "    }\n",
       "\n",
       "    .dataframe tbody tr th {\n",
       "        vertical-align: top;\n",
       "    }\n",
       "\n",
       "    .dataframe thead th {\n",
       "        text-align: right;\n",
       "    }\n",
       "</style>\n",
       "<table border=\"1\" class=\"dataframe\">\n",
       "  <thead>\n",
       "    <tr style=\"text-align: right;\">\n",
       "      <th></th>\n",
       "      <th>correct</th>\n",
       "      <th>incorrect</th>\n",
       "    </tr>\n",
       "  </thead>\n",
       "  <tbody>\n",
       "    <tr>\n",
       "      <th>10375</th>\n",
       "      <td>قسم حافظ الاسد دمشق ، وفصل ريفها عنها من بدايه...</td>\n",
       "      <td>قسم حافظ الاسد دمشق وفصل ريفها عنها من بدايه ح...</td>\n",
       "    </tr>\n",
       "    <tr>\n",
       "      <th>514</th>\n",
       "      <td>في البدايه ، نوصل لكم اخواننا القطريين ، والي ...</td>\n",
       "      <td>في البدايه نوصل لكم اخواننا القطريين والي امير...</td>\n",
       "    </tr>\n",
       "    <tr>\n",
       "      <th>10696</th>\n",
       "      <td>اعتقد ان التقرير لم يشمل اثرياء عرب ، علي الرغ...</td>\n",
       "      <td>اعتقد ان التقرير لم يشمل اثرياء عرب علي الرغم ...</td>\n",
       "    </tr>\n",
       "    <tr>\n",
       "      <th>2878</th>\n",
       "      <td>لسنا ضد دوله ازواد ، ولكن هل ازواد وحدها من سي...</td>\n",
       "      <td>لسنا ضد دوله ازواد ولكن هل ازواد وحدها من سيعل...</td>\n",
       "    </tr>\n",
       "    <tr>\n",
       "      <th>10174</th>\n",
       "      <td>يا شباب مدينه حلب هيا هبوا جميعا وانضموا الي ث...</td>\n",
       "      <td>يا شباب مدينه حلب هيا هبو جميعا وانضمو الي ثور...</td>\n",
       "    </tr>\n",
       "  </tbody>\n",
       "</table>\n",
       "</div>"
      ],
      "text/plain": [
       "                                                 correct  \\\n",
       "10375  قسم حافظ الاسد دمشق ، وفصل ريفها عنها من بدايه...   \n",
       "514    في البدايه ، نوصل لكم اخواننا القطريين ، والي ...   \n",
       "10696  اعتقد ان التقرير لم يشمل اثرياء عرب ، علي الرغ...   \n",
       "2878   لسنا ضد دوله ازواد ، ولكن هل ازواد وحدها من سي...   \n",
       "10174  يا شباب مدينه حلب هيا هبوا جميعا وانضموا الي ث...   \n",
       "\n",
       "                                               incorrect  \n",
       "10375  قسم حافظ الاسد دمشق وفصل ريفها عنها من بدايه ح...  \n",
       "514    في البدايه نوصل لكم اخواننا القطريين والي امير...  \n",
       "10696  اعتقد ان التقرير لم يشمل اثرياء عرب علي الرغم ...  \n",
       "2878   لسنا ضد دوله ازواد ولكن هل ازواد وحدها من سيعل...  \n",
       "10174  يا شباب مدينه حلب هيا هبو جميعا وانضمو الي ثور...  "
      ]
     },
     "execution_count": 4,
     "metadata": {},
     "output_type": "execute_result"
    }
   ],
   "source": [
    "# view samples from training set\n",
    "df_train.sample(5)"
   ]
  },
  {
   "cell_type": "code",
   "execution_count": 5,
   "metadata": {
    "execution": {
     "iopub.execute_input": "2025-05-02T09:29:46.940565Z",
     "iopub.status.busy": "2025-05-02T09:29:46.940104Z",
     "iopub.status.idle": "2025-05-02T09:29:46.948340Z",
     "shell.execute_reply": "2025-05-02T09:29:46.947533Z",
     "shell.execute_reply.started": "2025-05-02T09:29:46.940542Z"
    },
    "trusted": true
   },
   "outputs": [
    {
     "data": {
      "text/html": [
       "<div>\n",
       "<style scoped>\n",
       "    .dataframe tbody tr th:only-of-type {\n",
       "        vertical-align: middle;\n",
       "    }\n",
       "\n",
       "    .dataframe tbody tr th {\n",
       "        vertical-align: top;\n",
       "    }\n",
       "\n",
       "    .dataframe thead th {\n",
       "        text-align: right;\n",
       "    }\n",
       "</style>\n",
       "<table border=\"1\" class=\"dataframe\">\n",
       "  <thead>\n",
       "    <tr style=\"text-align: right;\">\n",
       "      <th></th>\n",
       "      <th>correct</th>\n",
       "      <th>incorrect</th>\n",
       "    </tr>\n",
       "  </thead>\n",
       "  <tbody>\n",
       "    <tr>\n",
       "      <th>1399</th>\n",
       "      <td>اما انت يا سيد فايق فنظامك اخذ وكاله الاستعمار...</td>\n",
       "      <td>اما انت يا سيد فايق فنظامك اخذ وكاله الاستعمار...</td>\n",
       "    </tr>\n",
       "    <tr>\n",
       "      <th>1352</th>\n",
       "      <td>اي حل واي اوهام يا اخي الكريم . . الوفاق حركه ...</td>\n",
       "      <td>اي حل واي خرابيط يا اخي الكريم . . الوفاق حركه...</td>\n",
       "    </tr>\n",
       "    <tr>\n",
       "      <th>2234</th>\n",
       "      <td>اهداء الي من يتشدقون بحريه التعبير والديموكارث...</td>\n",
       "      <td>اهداء الي من يتشدقون بالحريه التعبير والديموكا...</td>\n",
       "    </tr>\n",
       "    <tr>\n",
       "      <th>1000</th>\n",
       "      <td>كل الناس تتكلم عن مقتل المتمرد خليل ابراهيم ، ...</td>\n",
       "      <td>كل الناس تتكلم عن مقتل المتمرد خليل ابراهيم وا...</td>\n",
       "    </tr>\n",
       "    <tr>\n",
       "      <th>640</th>\n",
       "      <td>اذا كنا نحن نتابع الجزيره ، فهي لمصداقيتها . ....</td>\n",
       "      <td>اذا كنا نحن نتابع الجزيره فهو لمصداقيتها . . ا...</td>\n",
       "    </tr>\n",
       "  </tbody>\n",
       "</table>\n",
       "</div>"
      ],
      "text/plain": [
       "                                                correct  \\\n",
       "1399  اما انت يا سيد فايق فنظامك اخذ وكاله الاستعمار...   \n",
       "1352  اي حل واي اوهام يا اخي الكريم . . الوفاق حركه ...   \n",
       "2234  اهداء الي من يتشدقون بحريه التعبير والديموكارث...   \n",
       "1000  كل الناس تتكلم عن مقتل المتمرد خليل ابراهيم ، ...   \n",
       "640   اذا كنا نحن نتابع الجزيره ، فهي لمصداقيتها . ....   \n",
       "\n",
       "                                              incorrect  \n",
       "1399  اما انت يا سيد فايق فنظامك اخذ وكاله الاستعمار...  \n",
       "1352  اي حل واي خرابيط يا اخي الكريم . . الوفاق حركه...  \n",
       "2234  اهداء الي من يتشدقون بالحريه التعبير والديموكا...  \n",
       "1000  كل الناس تتكلم عن مقتل المتمرد خليل ابراهيم وا...  \n",
       "640   اذا كنا نحن نتابع الجزيره فهو لمصداقيتها . . ا...  "
      ]
     },
     "execution_count": 5,
     "metadata": {},
     "output_type": "execute_result"
    }
   ],
   "source": [
    "# view samples from validation set\n",
    "df_val.sample(5)"
   ]
  },
  {
   "cell_type": "code",
   "execution_count": 6,
   "metadata": {
    "execution": {
     "iopub.execute_input": "2025-05-02T09:29:48.724710Z",
     "iopub.status.busy": "2025-05-02T09:29:48.724184Z",
     "iopub.status.idle": "2025-05-02T09:29:48.729639Z",
     "shell.execute_reply": "2025-05-02T09:29:48.728863Z",
     "shell.execute_reply.started": "2025-05-02T09:29:48.724685Z"
    },
    "trusted": true
   },
   "outputs": [
    {
     "data": {
      "text/plain": [
       "((18350, 2), (2293, 2))"
      ]
     },
     "execution_count": 6,
     "metadata": {},
     "output_type": "execute_result"
    }
   ],
   "source": [
    "df_train.shape, df_val.shape"
   ]
  },
  {
   "cell_type": "code",
   "execution_count": 7,
   "metadata": {
    "execution": {
     "iopub.execute_input": "2025-05-02T09:29:49.248486Z",
     "iopub.status.busy": "2025-05-02T09:29:49.247946Z",
     "iopub.status.idle": "2025-05-02T09:29:49.258673Z",
     "shell.execute_reply": "2025-05-02T09:29:49.258173Z",
     "shell.execute_reply.started": "2025-05-02T09:29:49.248462Z"
    },
    "trusted": true
   },
   "outputs": [
    {
     "data": {
      "text/html": [
       "<div>\n",
       "<style scoped>\n",
       "    .dataframe tbody tr th:only-of-type {\n",
       "        vertical-align: middle;\n",
       "    }\n",
       "\n",
       "    .dataframe tbody tr th {\n",
       "        vertical-align: top;\n",
       "    }\n",
       "\n",
       "    .dataframe thead th {\n",
       "        text-align: right;\n",
       "    }\n",
       "</style>\n",
       "<table border=\"1\" class=\"dataframe\">\n",
       "  <thead>\n",
       "    <tr style=\"text-align: right;\">\n",
       "      <th></th>\n",
       "      <th>correct</th>\n",
       "      <th>incorrect</th>\n",
       "    </tr>\n",
       "  </thead>\n",
       "  <tbody>\n",
       "    <tr>\n",
       "      <th>0</th>\n",
       "      <td>سبحان الله ، الحكام العرب سيموت علي الكرسي ليظ...</td>\n",
       "      <td>سبحان الله الحكام العرب سيموت علي الكرسي ليضهر...</td>\n",
       "    </tr>\n",
       "    <tr>\n",
       "      <th>1</th>\n",
       "      <td>النصر ات لا محال ان شاء الله . من يءمن بالله و...</td>\n",
       "      <td>النصر ات لا محال انشاء الله من يءمن بالله والي...</td>\n",
       "    </tr>\n",
       "    <tr>\n",
       "      <th>2</th>\n",
       "      <td>الي كل شخص يعتقد ان بشار الاسد سوف يخرج من سور...</td>\n",
       "      <td>الي كل شخص يعتقد ان بشار الاسد سوف يخرج من سور...</td>\n",
       "    </tr>\n",
       "    <tr>\n",
       "      <th>3</th>\n",
       "      <td>الاسد وعصابته - لحد الان - غير مستوعبين انه رح...</td>\n",
       "      <td>الاسد وعصابته لحد الان غير مستوعبين ان و رح ين...</td>\n",
       "    </tr>\n",
       "    <tr>\n",
       "      <th>4</th>\n",
       "      <td>النظام الاسدي تجاوز حتي ما فعله معمر القذافي ف...</td>\n",
       "      <td>النظام الاسدي تجاوز حتي ما فعله معمر القذافي ف...</td>\n",
       "    </tr>\n",
       "    <tr>\n",
       "      <th>...</th>\n",
       "      <td>...</td>\n",
       "      <td>...</td>\n",
       "    </tr>\n",
       "    <tr>\n",
       "      <th>2288</th>\n",
       "      <td>اعتقد ان اي مسلم من المستحيل ان يفعل هذا ، سوا...</td>\n",
       "      <td>اعتقد ان اي مسلم من المستحيل ان يفعل هذا سواء ...</td>\n",
       "    </tr>\n",
       "    <tr>\n",
       "      <th>2289</th>\n",
       "      <td>( . . وهو يصلح جدران بيته ويصبغها ، وحينما يست...</td>\n",
       "      <td>( . . وهو يصلح جدران بيته ويصبغها وحينما يستعص...</td>\n",
       "    </tr>\n",
       "    <tr>\n",
       "      <th>2290</th>\n",
       "      <td>انا استغرب ممن ينكر علي الجزيره ويصفها باثاره ...</td>\n",
       "      <td>انا استغرب ممن ينكر علي الجزيره ويصفها باثاره ...</td>\n",
       "    </tr>\n",
       "    <tr>\n",
       "      <th>2291</th>\n",
       "      <td>تصرف طبيعي ، اي انسان في امريكا يتعرض بالنقد ل...</td>\n",
       "      <td>تصرف طبيعي اي انسان في امريكا يتعرض بالنقد للي...</td>\n",
       "    </tr>\n",
       "    <tr>\n",
       "      <th>2292</th>\n",
       "      <td>اسراءيل سوف لن تنهار بهذه السهوله ، الا اذا تا...</td>\n",
       "      <td>اسراءيل سوف لن تنهار بهذه السهوله , الا اذا تا...</td>\n",
       "    </tr>\n",
       "  </tbody>\n",
       "</table>\n",
       "<p>20643 rows × 2 columns</p>\n",
       "</div>"
      ],
      "text/plain": [
       "                                                correct  \\\n",
       "0     سبحان الله ، الحكام العرب سيموت علي الكرسي ليظ...   \n",
       "1     النصر ات لا محال ان شاء الله . من يءمن بالله و...   \n",
       "2     الي كل شخص يعتقد ان بشار الاسد سوف يخرج من سور...   \n",
       "3     الاسد وعصابته - لحد الان - غير مستوعبين انه رح...   \n",
       "4     النظام الاسدي تجاوز حتي ما فعله معمر القذافي ف...   \n",
       "...                                                 ...   \n",
       "2288  اعتقد ان اي مسلم من المستحيل ان يفعل هذا ، سوا...   \n",
       "2289  ( . . وهو يصلح جدران بيته ويصبغها ، وحينما يست...   \n",
       "2290  انا استغرب ممن ينكر علي الجزيره ويصفها باثاره ...   \n",
       "2291  تصرف طبيعي ، اي انسان في امريكا يتعرض بالنقد ل...   \n",
       "2292  اسراءيل سوف لن تنهار بهذه السهوله ، الا اذا تا...   \n",
       "\n",
       "                                              incorrect  \n",
       "0     سبحان الله الحكام العرب سيموت علي الكرسي ليضهر...  \n",
       "1     النصر ات لا محال انشاء الله من يءمن بالله والي...  \n",
       "2     الي كل شخص يعتقد ان بشار الاسد سوف يخرج من سور...  \n",
       "3     الاسد وعصابته لحد الان غير مستوعبين ان و رح ين...  \n",
       "4     النظام الاسدي تجاوز حتي ما فعله معمر القذافي ف...  \n",
       "...                                                 ...  \n",
       "2288  اعتقد ان اي مسلم من المستحيل ان يفعل هذا سواء ...  \n",
       "2289  ( . . وهو يصلح جدران بيته ويصبغها وحينما يستعص...  \n",
       "2290  انا استغرب ممن ينكر علي الجزيره ويصفها باثاره ...  \n",
       "2291  تصرف طبيعي اي انسان في امريكا يتعرض بالنقد للي...  \n",
       "2292  اسراءيل سوف لن تنهار بهذه السهوله , الا اذا تا...  \n",
       "\n",
       "[20643 rows x 2 columns]"
      ]
     },
     "execution_count": 7,
     "metadata": {},
     "output_type": "execute_result"
    }
   ],
   "source": [
    "# Concatenate train and validation sets\n",
    "df = pd.concat([df_train, df_val])\n",
    "df"
   ]
  },
  {
   "cell_type": "code",
   "execution_count": 8,
   "metadata": {
    "execution": {
     "iopub.execute_input": "2025-05-02T09:29:52.201622Z",
     "iopub.status.busy": "2025-05-02T09:29:52.200985Z",
     "iopub.status.idle": "2025-05-02T09:29:52.228038Z",
     "shell.execute_reply": "2025-05-02T09:29:52.227245Z",
     "shell.execute_reply.started": "2025-05-02T09:29:52.201599Z"
    },
    "trusted": true
   },
   "outputs": [
    {
     "name": "stdout",
     "output_type": "stream",
     "text": [
      "<class 'pandas.core.frame.DataFrame'>\n",
      "Index: 20643 entries, 0 to 2292\n",
      "Data columns (total 2 columns):\n",
      " #   Column     Non-Null Count  Dtype \n",
      "---  ------     --------------  ----- \n",
      " 0   correct    20643 non-null  object\n",
      " 1   incorrect  20643 non-null  object\n",
      "dtypes: object(2)\n",
      "memory usage: 483.8+ KB\n"
     ]
    }
   ],
   "source": [
    "df.info()"
   ]
  },
  {
   "cell_type": "code",
   "execution_count": 9,
   "metadata": {
    "execution": {
     "iopub.execute_input": "2025-05-02T09:29:52.471356Z",
     "iopub.status.busy": "2025-05-02T09:29:52.471086Z",
     "iopub.status.idle": "2025-05-02T09:29:52.484057Z",
     "shell.execute_reply": "2025-05-02T09:29:52.483512Z",
     "shell.execute_reply.started": "2025-05-02T09:29:52.471339Z"
    },
    "trusted": true
   },
   "outputs": [
    {
     "data": {
      "text/plain": [
       "correct      0\n",
       "incorrect    0\n",
       "dtype: int64"
      ]
     },
     "execution_count": 9,
     "metadata": {},
     "output_type": "execute_result"
    }
   ],
   "source": [
    "df.isna().sum()"
   ]
  },
  {
   "cell_type": "code",
   "execution_count": 10,
   "metadata": {
    "execution": {
     "iopub.execute_input": "2025-05-02T09:29:52.782437Z",
     "iopub.status.busy": "2025-05-02T09:29:52.781911Z",
     "iopub.status.idle": "2025-05-02T09:29:52.891127Z",
     "shell.execute_reply": "2025-05-02T09:29:52.890582Z",
     "shell.execute_reply.started": "2025-05-02T09:29:52.782420Z"
    },
    "trusted": true
   },
   "outputs": [
    {
     "data": {
      "text/plain": [
       "33"
      ]
     },
     "execution_count": 10,
     "metadata": {},
     "output_type": "execute_result"
    }
   ],
   "source": [
    "df.duplicated().sum()"
   ]
  },
  {
   "cell_type": "code",
   "execution_count": 11,
   "metadata": {
    "execution": {
     "iopub.execute_input": "2025-05-02T09:29:53.074107Z",
     "iopub.status.busy": "2025-05-02T09:29:53.073908Z",
     "iopub.status.idle": "2025-05-02T09:29:53.128273Z",
     "shell.execute_reply": "2025-05-02T09:29:53.127554Z",
     "shell.execute_reply.started": "2025-05-02T09:29:53.074093Z"
    },
    "trusted": true
   },
   "outputs": [],
   "source": [
    "df.drop_duplicates(inplace=True)"
   ]
  },
  {
   "cell_type": "code",
   "execution_count": 12,
   "metadata": {
    "execution": {
     "iopub.execute_input": "2025-05-02T09:29:55.345732Z",
     "iopub.status.busy": "2025-05-02T09:29:55.345095Z",
     "iopub.status.idle": "2025-05-02T09:29:55.352226Z",
     "shell.execute_reply": "2025-05-02T09:29:55.351428Z",
     "shell.execute_reply.started": "2025-05-02T09:29:55.345711Z"
    },
    "trusted": true
   },
   "outputs": [
    {
     "name": "stdout",
     "output_type": "stream",
     "text": [
      "Sample 1:\n",
      "Incorrect: سبحان الله الحكام العرب سيموت علي الكرسي ليضهر انه عنيد وقوي ، لوكان بشار يحب ارضه او شعبه لخرج من الحكم شفقه ورحمه ببلد ضاع ، هنا زال قناع هذا الرءيس اللذي خيب ظن شعبه والشعوب المسلمه ، كل مال السورين نفق في شراء سلاح ليقتل به ، شتانا وحكام اوربا الذين يتركون الكرسي لمجرد فتنه بسيطه لحبهم لبلدهم\n",
      "-------\n",
      "Correct: سبحان الله ، الحكام العرب سيموت علي الكرسي ليظهر انه عنيد وقوي . لو كان بشار يحب ارضه او شعبه ، لخرج من الحكم شفقه ورحمه ببلد ضاع . هنا زال قناع هذا الرءيس ، الذي خيب ظن شعبه والشعوب المسلمه ، كل مال السورين نفق في شراء سلاح ليقتل به ، شتان وحكام اوربا ، الذين يتركون الكرسي لمجرد فتنه بسيطه لحبهم لبلدهم .\n",
      "____________________________________________________________________\n",
      "Sample 2:\n",
      "Incorrect: النصر ات لا محال انشاء الله من يءمن بالله واليوم الاخر . والمطلع علي قصص الانبياء يري ان النصر من الله وعلامات القيامه اتيه في تسلسل عجيب . ان تنصر الله ينصركم لا رجوع انما التغيير ات ليس من الرءساء انما من فوق سابع سماء\n",
      "-------\n",
      "Correct: النصر ات لا محال ان شاء الله . من يءمن بالله واليوم الاخر ، والمطلع علي قصص الانبياء ، يري ان النصر من الله ، وعلامات القيامه اتيه في تسلسل عجيب . \" ان تنصروا الله ينصركم \" لا رجوع ، انما التغيير ات ليس من الرءساء ، انما من فوق سابع سماء .\n",
      "____________________________________________________________________\n",
      "Sample 3:\n",
      "Incorrect: الي كل شخص يعتقد ان بشار الاسد سوف يخرج من سوريا بدون محكمه فهوا وهم ان بشار الاسد قتل الشعب سوري واقول لكل شحص سوري او غير سوري ان بشار وطغمتهو عثو فساد في سوريا 48 عام يكفي ولاسلام اي الاسد حكمات فافنيت بلاد وخيران اقول لكل شخص من الامن وجيش اتقي لله في الشعب سوري البطل\n",
      "-------\n",
      "Correct: الي كل شخص يعتقد ان بشار الاسد سوف يخرج من سوريا بدون محكمه ، فهو وهم . ان بشار الاسد قتل الشعب سوري ، واقول لكل شخص سوري ، او غير سوري ، ان بشار وطغمته عثوا فسادا في سوريا 48 عاما ، يكفي والاسلام اي الاسد ، حكمت فافنيت بلادا وخيرا . اقول لكل شخص من الامن وجيش : اتق الله في الشعب سوري البطل\n",
      "____________________________________________________________________\n",
      "Sample 4:\n",
      "Incorrect: الاسد وعصابته لحد الان غير مستوعبين ان و رح ينقلعوا من فوق رقاب الشعب السوري . . . يعني لس ع راكبه براسون انو هالشعب قطيع غنم مابيحل ولا بيربط ونهايتو الدبح ! تماما كالقذافي ومن اثر الصدمه بدات التصر فات العنيفه بالقتل والاعتقال والتعذيب . . اعتقد بان الكثيرين سوف لن يفيقوا من الصدمه ابدا لانهم سيلحقوا بشهاءنا باذن الرب .\n",
      "-------\n",
      "Correct: الاسد وعصابته - لحد الان - غير مستوعبين انه رح ينقلعوا من فوق رقاب الشعب السوري . . . يعني لسع راكبه براسهم ان هذا الشعب قطيع غنم ، ما يحل ولا يربط ، ونهايته الذبح ! تماما كالقذافي . ومن اثر الصدمه ، بدات التصرفات العنيفه بالقتل ، والاعتقال ، والتعذيب . . اعتقد بان الكثيرين سوف لن يفيقوا من الصدمه ابدا ؛ لانهم سيلحقوا بشهداءنا باذن الرب .\n",
      "____________________________________________________________________\n",
      "Sample 5:\n",
      "Incorrect: النظام الاسدي تجاوز حتي ما فعله معمر القذافي في ليبيا ؛ فهناك كانت المعركه مختلفه ؛ حيث وقعت بين طرفين : نظام العقيد والثوار ، وكلاهما يحمل السلاح بوجه الاخر : الدبابه مقابل الدبابه ، والرشاش مقابل الرشاش . . بينما العكس تماما في سوريا ؛ حيث ان النظام الاسدي هو من يحمل السلاح ، وهو من يعربد به ، بينما الثوار السوريون مسالمون\n",
      "-------\n",
      "Correct: النظام الاسدي تجاوز حتي ما فعله معمر القذافي في ليبيا ؛ فهناك كانت المعركه مختلفه ، حيث وقعت بين طرفين : نظام العقيد ، والثوار . وكلاهما يحمل السلاح بوجه الاخر ، الدبابه مقابل الدبابه ، والرشاش مقابل الرشاش . . بينما العكس تماما في سوريا ، حيث ان النظام الاسدي هو من يحمل السلاح ، وهو من يعربد به ، بينما الثوار السوريون مسالمون .\n",
      "____________________________________________________________________\n",
      "Sample 6:\n",
      "Incorrect: سوريا اما للسوريين او لبشار وعصابته لن تنتهي هذه الثوره الا بان تبقي سوريا حره ليس فيها مكانا لقتله الاطفال والنساء الشعب السوري لن يرضي ان يحكمه خاءن قتل ابناء سوريا لو استمرت الثوره للاجيال القادمه لن يخذل الشهداء وسوف تنتصر الثوره وستجر اذيال الخيبه عصابه الطغيان الله معكم يا احرار سوريا\n",
      "-------\n",
      "Correct: سوريا ام للسوريين ، او لبشار وعصابته ؟ لن تنتهي هذه الثوره الا بان تبقي سوريا حره ، ليس فيها مكان لقتله الاطفال والنساء ، الشعب السوري لن يرضي ان يحكمه خاءن قتل ابناء سوريا . لو استمرت الثوره للاجيال القادمه ، لن يخذل الشهداء ، وسوف تنتصر الثوره ، وستجر اذيال الخيبه عصابه الطغيان . الله معكم يا احرار سوريا .\n",
      "____________________________________________________________________\n",
      "Sample 7:\n",
      "Incorrect: التاريخ يعيد نفسه . الاخوان المجرمون يقتلون و يغتالون باسم الاسلام يقتلون عاءلات باكملها باسم الاسلام و يمدوون ايديهم للاجنبي و الي عملا ء الاجنبي ليقبضوا المال و ياخذوا السلاح ليغتالو هذا الوطن و يضعفوا هذا الوطن سوري . هذا مايفعله الاخوان المجرمون . الله محيي الجيش العربي السوري\n",
      "-------\n",
      "Correct: التاريخ يعيد نفسه . الاخوان المجرمون يقتلون ويغتالون باسم الاسلام ، يقتلون عاءلات باكملها باسم الاسلام ، ويمدون ايديهم للاجنبي ، والي عملاء الاجنبي ليقبضوا المال ، وياخذوا السلاح ليغتالوا هذا الوطن ، ويضعفوا هذا الوطن سوري . هذا ما يفعله الاخوان المجرمون . الله محي الجيش العربي السوري .\n",
      "____________________________________________________________________\n",
      "Sample 8:\n",
      "Incorrect: عار عليكم يا امه الاسلام لعدم مساعدتكم لنا نحن الشعب السوري الذي نقتل كل يوم بدم بارد و علي مسمع العالم الاسلامي اجمع . اين انتم يا اشباه الرجاال . و الله العظيم لن نتراجع عن اسقاط النظام و المطالبه باعدامه في ساحه المرجه و النظام البعثي يعرف شو هي ساحه المرجه\n",
      "-------\n",
      "Correct: عار عليكم يا امه الاسلام لعدم مساعدتكم لنا ، نحن الشعب السوري الذي نقتل كل يوم بدم بارد ، وعلي مسمع العالم الاسلامي اجمع . اين انتم يا اشباه الرجال ؟ والله العظيم لن نتراجع عن اسقاط النظام ، والمطالبه باعدامه في ساحه المرجه . والنظام البعثي يعرف شو هي ساحه المرجه .\n",
      "____________________________________________________________________\n",
      "Sample 9:\n",
      "Incorrect: تنويه : عقرب هي قريه تقع في سهل الحوله وتتبع اداريا لمحافطه حماه . سكانها من الاغلبيه السنيه و يوجد بها اقليه علويه نصيريه حوالي 15 % . قام اليوم شبيحه النظام من الطاءفه العلويه بارتكاب مجزره بحق السكان المدنيين من السن ه والطاءفه العلويه\n",
      "-------\n",
      "Correct: تنويه : عقرب هي قريه تقع في سهل الحوله ، وتتبع اداريا لمحافطه حماه . سكانها من الاغلبيه السنيه ، ويوجد بها اقليه علويه نصيريه ، حوالي 15 % . قام اليوم شبيحه النظام - من الطاءفه العلويه - بارتكاب مجزره بحق السكان المدنيين من السنه والطاءفه العلويه .\n",
      "____________________________________________________________________\n",
      "Sample 10:\n",
      "Incorrect: ضحكو علينا بحرب العراق عام ١٩٩٠ وعام ٢٠٠٣ وحرب ليبيا وهاهم يحولون ربيعنا الي خريف وشتاء وباسم مطالبنا المحقه حرفونا الي الفتنه وكره بعضنا بحربهم الاعلاميه ! ! و العم سام اصبح المهتم الاكبر بحريتنا وحقوقنا ! ! بوضع سوريا الحبيبه الان ستكون خيانه عضمي من بشار اذا فكر بالاستقاله\n",
      "-------\n",
      "Correct: ضحكوا علينا بحرب العراق عام 1990 ، وعام 2003 ، وحرب ليبيا ، وهاهم يحولون ربيعنا الي خريف وشتاء ، وباسم مطالبنا المحقه ، حرفونا الي الفتنه وكره بعضنا بحربهم الاعلاميه ! ! والعم سام اصبح المهتم الاكبر بحريتنا وحقوقنا ! ! بوضع سوريا الحبيبه الان ، ستكون خيانه عظمي من بشار اذا فكر بالاستقاله .\n",
      "____________________________________________________________________\n"
     ]
    }
   ],
   "source": [
    "incorrect_sentences = df['incorrect'].tolist()\n",
    "correct_sentences = df['correct'].tolist()\n",
    "\n",
    "for i in range(10):\n",
    "    print(f\"Sample {i+1}:\\nIncorrect: {incorrect_sentences[i]}\\n-------\\nCorrect: {correct_sentences[i]}\")\n",
    "    print(\"____________________________________________________________________\")"
   ]
  },
  {
   "cell_type": "markdown",
   "metadata": {},
   "source": [
    "<h2>Exploratory Data Analysis (EDA)</h2>"
   ]
  },
  {
   "cell_type": "markdown",
   "metadata": {},
   "source": [
    "***To analyze word count, stopwords, and emoji usage in correct and incorrect sentences -> helping us understand error patterns and text quality before preprocessing***"
   ]
  },
  {
   "cell_type": "code",
   "execution_count": 13,
   "metadata": {
    "execution": {
     "iopub.execute_input": "2025-05-02T09:27:47.571394Z",
     "iopub.status.busy": "2025-05-02T09:27:47.570705Z",
     "iopub.status.idle": "2025-05-02T09:27:56.062745Z",
     "shell.execute_reply": "2025-05-02T09:27:56.062162Z",
     "shell.execute_reply.started": "2025-05-02T09:27:47.571369Z"
    },
    "trusted": true
   },
   "outputs": [],
   "source": [
    "stop_words = set(nltk.corpus.stopwords.words(\"arabic\"))\n",
    "\n",
    "def avg_word(sentence):\n",
    "    words = sentence.split()\n",
    "    if len(words) == 0:\n",
    "        return 0\n",
    "    return (sum(len(word) for word in words)/len(words))\n",
    "\n",
    "\n",
    "df_features = pd.DataFrame({\n",
    "    # Word counts\n",
    "    'word_count_correct': df['correct'].apply(lambda x: len(str(x).split(\" \"))),\n",
    "    'word_count_incorrect': df['incorrect'].apply(lambda x: len(str(x).split(\" \"))),\n",
    "\n",
    "    # Stopword counts\n",
    "    'stopwords_correct': df['correct'].apply(lambda x: len([w for w in x.split() if w in stop_words])),\n",
    "    'stopwords_incorrect': df['incorrect'].apply(lambda x: len([w for w in x.split() if w in stop_words])),\n",
    "\n",
    "    # Emoji counts\n",
    "    'emoji_count_correct': df['correct'].apply(lambda x: emoji.emoji_count(x)),\n",
    "    'emoji_count_incorrect': df['incorrect'].apply(lambda x: emoji.emoji_count(x)),\n",
    "\n",
    "    # Average word length\n",
    "    'avg_word_length_correct': df['correct'].apply(avg_word),\n",
    "    'avg_word_length_incorrect': df['incorrect'].apply(avg_word)\n",
    "})"
   ]
  },
  {
   "cell_type": "code",
   "execution_count": 14,
   "metadata": {
    "execution": {
     "iopub.execute_input": "2025-05-02T09:27:58.263771Z",
     "iopub.status.busy": "2025-05-02T09:27:58.263009Z",
     "iopub.status.idle": "2025-05-02T09:27:58.273426Z",
     "shell.execute_reply": "2025-05-02T09:27:58.272780Z",
     "shell.execute_reply.started": "2025-05-02T09:27:58.263743Z"
    },
    "trusted": true
   },
   "outputs": [
    {
     "data": {
      "text/html": [
       "<div>\n",
       "<style scoped>\n",
       "    .dataframe tbody tr th:only-of-type {\n",
       "        vertical-align: middle;\n",
       "    }\n",
       "\n",
       "    .dataframe tbody tr th {\n",
       "        vertical-align: top;\n",
       "    }\n",
       "\n",
       "    .dataframe thead th {\n",
       "        text-align: right;\n",
       "    }\n",
       "</style>\n",
       "<table border=\"1\" class=\"dataframe\">\n",
       "  <thead>\n",
       "    <tr style=\"text-align: right;\">\n",
       "      <th></th>\n",
       "      <th>word_count_correct</th>\n",
       "      <th>word_count_incorrect</th>\n",
       "      <th>stopwords_correct</th>\n",
       "      <th>stopwords_incorrect</th>\n",
       "      <th>emoji_count_correct</th>\n",
       "      <th>emoji_count_incorrect</th>\n",
       "      <th>avg_word_length_correct</th>\n",
       "      <th>avg_word_length_incorrect</th>\n",
       "    </tr>\n",
       "  </thead>\n",
       "  <tbody>\n",
       "    <tr>\n",
       "      <th>0</th>\n",
       "      <td>65</td>\n",
       "      <td>59</td>\n",
       "      <td>12</td>\n",
       "      <td>8</td>\n",
       "      <td>0</td>\n",
       "      <td>0</td>\n",
       "      <td>3.723077</td>\n",
       "      <td>4.050847</td>\n",
       "    </tr>\n",
       "    <tr>\n",
       "      <th>1</th>\n",
       "      <td>54</td>\n",
       "      <td>45</td>\n",
       "      <td>10</td>\n",
       "      <td>10</td>\n",
       "      <td>0</td>\n",
       "      <td>0</td>\n",
       "      <td>3.444444</td>\n",
       "      <td>3.911111</td>\n",
       "    </tr>\n",
       "    <tr>\n",
       "      <th>2</th>\n",
       "      <td>66</td>\n",
       "      <td>57</td>\n",
       "      <td>7</td>\n",
       "      <td>7</td>\n",
       "      <td>0</td>\n",
       "      <td>0</td>\n",
       "      <td>3.424242</td>\n",
       "      <td>3.789474</td>\n",
       "    </tr>\n",
       "    <tr>\n",
       "      <th>3</th>\n",
       "      <td>70</td>\n",
       "      <td>62</td>\n",
       "      <td>10</td>\n",
       "      <td>10</td>\n",
       "      <td>0</td>\n",
       "      <td>0</td>\n",
       "      <td>3.871429</td>\n",
       "      <td>4.225806</td>\n",
       "    </tr>\n",
       "    <tr>\n",
       "      <th>4</th>\n",
       "      <td>66</td>\n",
       "      <td>64</td>\n",
       "      <td>11</td>\n",
       "      <td>11</td>\n",
       "      <td>0</td>\n",
       "      <td>0</td>\n",
       "      <td>4.015152</td>\n",
       "      <td>4.109375</td>\n",
       "    </tr>\n",
       "  </tbody>\n",
       "</table>\n",
       "</div>"
      ],
      "text/plain": [
       "   word_count_correct  word_count_incorrect  stopwords_correct  \\\n",
       "0                  65                    59                 12   \n",
       "1                  54                    45                 10   \n",
       "2                  66                    57                  7   \n",
       "3                  70                    62                 10   \n",
       "4                  66                    64                 11   \n",
       "\n",
       "   stopwords_incorrect  emoji_count_correct  emoji_count_incorrect  \\\n",
       "0                    8                    0                      0   \n",
       "1                   10                    0                      0   \n",
       "2                    7                    0                      0   \n",
       "3                   10                    0                      0   \n",
       "4                   11                    0                      0   \n",
       "\n",
       "   avg_word_length_correct  avg_word_length_incorrect  \n",
       "0                 3.723077                   4.050847  \n",
       "1                 3.444444                   3.911111  \n",
       "2                 3.424242                   3.789474  \n",
       "3                 3.871429                   4.225806  \n",
       "4                 4.015152                   4.109375  "
      ]
     },
     "execution_count": 14,
     "metadata": {},
     "output_type": "execute_result"
    }
   ],
   "source": [
    "df_features.head()"
   ]
  },
  {
   "cell_type": "code",
   "execution_count": 15,
   "metadata": {
    "execution": {
     "iopub.execute_input": "2025-05-02T09:28:00.221628Z",
     "iopub.status.busy": "2025-05-02T09:28:00.221071Z",
     "iopub.status.idle": "2025-05-02T09:28:00.251318Z",
     "shell.execute_reply": "2025-05-02T09:28:00.250758Z",
     "shell.execute_reply.started": "2025-05-02T09:28:00.221604Z"
    },
    "trusted": true
   },
   "outputs": [
    {
     "data": {
      "text/html": [
       "<div>\n",
       "<style scoped>\n",
       "    .dataframe tbody tr th:only-of-type {\n",
       "        vertical-align: middle;\n",
       "    }\n",
       "\n",
       "    .dataframe tbody tr th {\n",
       "        vertical-align: top;\n",
       "    }\n",
       "\n",
       "    .dataframe thead th {\n",
       "        text-align: right;\n",
       "    }\n",
       "</style>\n",
       "<table border=\"1\" class=\"dataframe\">\n",
       "  <thead>\n",
       "    <tr style=\"text-align: right;\">\n",
       "      <th></th>\n",
       "      <th>word_count_correct</th>\n",
       "      <th>word_count_incorrect</th>\n",
       "      <th>stopwords_correct</th>\n",
       "      <th>stopwords_incorrect</th>\n",
       "      <th>emoji_count_correct</th>\n",
       "      <th>emoji_count_incorrect</th>\n",
       "      <th>avg_word_length_correct</th>\n",
       "      <th>avg_word_length_incorrect</th>\n",
       "    </tr>\n",
       "  </thead>\n",
       "  <tbody>\n",
       "    <tr>\n",
       "      <th>count</th>\n",
       "      <td>20610.000000</td>\n",
       "      <td>20610.000000</td>\n",
       "      <td>20610.000000</td>\n",
       "      <td>20610.000000</td>\n",
       "      <td>20610.0</td>\n",
       "      <td>20610.0</td>\n",
       "      <td>20610.000000</td>\n",
       "      <td>20610.000000</td>\n",
       "    </tr>\n",
       "    <tr>\n",
       "      <th>mean</th>\n",
       "      <td>58.722319</td>\n",
       "      <td>54.247210</td>\n",
       "      <td>9.336875</td>\n",
       "      <td>9.745706</td>\n",
       "      <td>0.0</td>\n",
       "      <td>0.0</td>\n",
       "      <td>4.096448</td>\n",
       "      <td>4.341099</td>\n",
       "    </tr>\n",
       "    <tr>\n",
       "      <th>std</th>\n",
       "      <td>18.524088</td>\n",
       "      <td>17.572836</td>\n",
       "      <td>4.537764</td>\n",
       "      <td>5.038992</td>\n",
       "      <td>0.0</td>\n",
       "      <td>0.0</td>\n",
       "      <td>0.378278</td>\n",
       "      <td>0.467289</td>\n",
       "    </tr>\n",
       "    <tr>\n",
       "      <th>min</th>\n",
       "      <td>6.000000</td>\n",
       "      <td>6.000000</td>\n",
       "      <td>0.000000</td>\n",
       "      <td>0.000000</td>\n",
       "      <td>0.0</td>\n",
       "      <td>0.0</td>\n",
       "      <td>1.181159</td>\n",
       "      <td>1.181159</td>\n",
       "    </tr>\n",
       "    <tr>\n",
       "      <th>25%</th>\n",
       "      <td>51.000000</td>\n",
       "      <td>47.000000</td>\n",
       "      <td>7.000000</td>\n",
       "      <td>7.000000</td>\n",
       "      <td>0.0</td>\n",
       "      <td>0.0</td>\n",
       "      <td>3.842105</td>\n",
       "      <td>4.038096</td>\n",
       "    </tr>\n",
       "    <tr>\n",
       "      <th>50%</th>\n",
       "      <td>57.000000</td>\n",
       "      <td>52.000000</td>\n",
       "      <td>9.000000</td>\n",
       "      <td>9.000000</td>\n",
       "      <td>0.0</td>\n",
       "      <td>0.0</td>\n",
       "      <td>4.088562</td>\n",
       "      <td>4.333333</td>\n",
       "    </tr>\n",
       "    <tr>\n",
       "      <th>75%</th>\n",
       "      <td>63.000000</td>\n",
       "      <td>58.000000</td>\n",
       "      <td>11.000000</td>\n",
       "      <td>12.000000</td>\n",
       "      <td>0.0</td>\n",
       "      <td>0.0</td>\n",
       "      <td>4.340000</td>\n",
       "      <td>4.644444</td>\n",
       "    </tr>\n",
       "    <tr>\n",
       "      <th>max</th>\n",
       "      <td>484.000000</td>\n",
       "      <td>461.000000</td>\n",
       "      <td>132.000000</td>\n",
       "      <td>132.000000</td>\n",
       "      <td>0.0</td>\n",
       "      <td>0.0</td>\n",
       "      <td>5.809524</td>\n",
       "      <td>7.928571</td>\n",
       "    </tr>\n",
       "  </tbody>\n",
       "</table>\n",
       "</div>"
      ],
      "text/plain": [
       "       word_count_correct  word_count_incorrect  stopwords_correct  \\\n",
       "count        20610.000000          20610.000000       20610.000000   \n",
       "mean            58.722319             54.247210           9.336875   \n",
       "std             18.524088             17.572836           4.537764   \n",
       "min              6.000000              6.000000           0.000000   \n",
       "25%             51.000000             47.000000           7.000000   \n",
       "50%             57.000000             52.000000           9.000000   \n",
       "75%             63.000000             58.000000          11.000000   \n",
       "max            484.000000            461.000000         132.000000   \n",
       "\n",
       "       stopwords_incorrect  emoji_count_correct  emoji_count_incorrect  \\\n",
       "count         20610.000000              20610.0                20610.0   \n",
       "mean              9.745706                  0.0                    0.0   \n",
       "std               5.038992                  0.0                    0.0   \n",
       "min               0.000000                  0.0                    0.0   \n",
       "25%               7.000000                  0.0                    0.0   \n",
       "50%               9.000000                  0.0                    0.0   \n",
       "75%              12.000000                  0.0                    0.0   \n",
       "max             132.000000                  0.0                    0.0   \n",
       "\n",
       "       avg_word_length_correct  avg_word_length_incorrect  \n",
       "count             20610.000000               20610.000000  \n",
       "mean                  4.096448                   4.341099  \n",
       "std                   0.378278                   0.467289  \n",
       "min                   1.181159                   1.181159  \n",
       "25%                   3.842105                   4.038096  \n",
       "50%                   4.088562                   4.333333  \n",
       "75%                   4.340000                   4.644444  \n",
       "max                   5.809524                   7.928571  "
      ]
     },
     "execution_count": 15,
     "metadata": {},
     "output_type": "execute_result"
    }
   ],
   "source": [
    "df_features.describe()"
   ]
  },
  {
   "cell_type": "markdown",
   "metadata": {},
   "source": [
    "*Since the word counts in the 'correct' and 'incorrect' columns differ, we’ll create a new feature from the incorrect text to help the model better understand and correct the errors.*"
   ]
  },
  {
   "cell_type": "markdown",
   "metadata": {},
   "source": [
    "<h2>Preprocessing</h2>"
   ]
  },
  {
   "cell_type": "markdown",
   "metadata": {},
   "source": [
    "<h3>Clean Text</h3> "
   ]
  },
  {
   "cell_type": "code",
   "execution_count": 13,
   "metadata": {
    "execution": {
     "iopub.execute_input": "2025-05-02T09:30:00.660940Z",
     "iopub.status.busy": "2025-05-02T09:30:00.660389Z",
     "iopub.status.idle": "2025-05-02T09:30:00.666284Z",
     "shell.execute_reply": "2025-05-02T09:30:00.665611Z",
     "shell.execute_reply.started": "2025-05-02T09:30:00.660919Z"
    },
    "trusted": true
   },
   "outputs": [],
   "source": [
    "punctuations = [\n",
    "    \".\", \"#\", \"$\", \"//\", \"?\", \"=\", \"'\", \"_\", \"-\", \";\", \"\\\\\", \"`\", \"؛\", \"<\", \">\", \"(\", \")\", \"*\", \"&\", \"^\", \n",
    "    \"%\", \"]\", \"[\", \",\", \"ـ\", \"،\", \"/\", \":\", \"؟\", \"'\", \"{\", \"}\", \"~\", \"|\", \"!\", \"”\", \"…\", \"“\", \"–\", '+', '@', '\"'\n",
    "]\n",
    "\n",
    "def clean_text(sentence: str):\n",
    "    # Normalize Arabic characters\n",
    "    sentence = sentence.replace('أ', 'ا').replace('إ', 'ا').replace('آ', 'ا').replace('ة', 'ه').replace('ى', 'ي')\n",
    "    \n",
    "    # Remove punctuations\n",
    "    sentence = ''.join([char for char in sentence if char not in punctuations])\n",
    "\n",
    "    # Remove non-Arabic characters\n",
    "    sentence = ''.join([char for char in sentence if char in 'ابتثجحخدذرزسشصضطظعغفقكلمنهويءئؤىة '])\n",
    "\n",
    "\n",
    "    # Remove numbers and extra spaces\n",
    "    sentence = re.sub(\"\\d+\", \" \", sentence)  \n",
    "    sentence = re.sub('\\s+', ' ', sentence)\n",
    "\n",
    "    # Strip leading and trailing spaces\n",
    "    sentence = sentence.strip()\n",
    "\n",
    "    return sentence"
   ]
  },
  {
   "cell_type": "code",
   "execution_count": 14,
   "metadata": {
    "execution": {
     "iopub.execute_input": "2025-05-02T09:30:03.285122Z",
     "iopub.status.busy": "2025-05-02T09:30:03.284460Z",
     "iopub.status.idle": "2025-05-02T09:30:03.289118Z",
     "shell.execute_reply": "2025-05-02T09:30:03.288321Z",
     "shell.execute_reply.started": "2025-05-02T09:30:03.285092Z"
    },
    "trusted": true
   },
   "outputs": [
    {
     "name": "stdout",
     "output_type": "stream",
     "text": [
      "يجب ان اذاكر جيدا لكي احصل علي و درجه\n"
     ]
    }
   ],
   "source": [
    "text = \"يجب أن أذاكر {NLP} جيداً لكي     احصل على A+ و 90 درجة /   \"\n",
    "cleaned_text = clean_text(text)\n",
    "print(cleaned_text)"
   ]
  },
  {
   "cell_type": "code",
   "execution_count": 15,
   "metadata": {
    "execution": {
     "iopub.execute_input": "2025-05-02T09:30:07.251352Z",
     "iopub.status.busy": "2025-05-02T09:30:07.251090Z",
     "iopub.status.idle": "2025-05-02T09:30:11.642113Z",
     "shell.execute_reply": "2025-05-02T09:30:11.641491Z",
     "shell.execute_reply.started": "2025-05-02T09:30:07.251335Z"
    },
    "trusted": true
   },
   "outputs": [
    {
     "data": {
      "text/html": [
       "<div>\n",
       "<style scoped>\n",
       "    .dataframe tbody tr th:only-of-type {\n",
       "        vertical-align: middle;\n",
       "    }\n",
       "\n",
       "    .dataframe tbody tr th {\n",
       "        vertical-align: top;\n",
       "    }\n",
       "\n",
       "    .dataframe thead th {\n",
       "        text-align: right;\n",
       "    }\n",
       "</style>\n",
       "<table border=\"1\" class=\"dataframe\">\n",
       "  <thead>\n",
       "    <tr style=\"text-align: right;\">\n",
       "      <th></th>\n",
       "      <th>correct</th>\n",
       "      <th>incorrect</th>\n",
       "    </tr>\n",
       "  </thead>\n",
       "  <tbody>\n",
       "    <tr>\n",
       "      <th>15270</th>\n",
       "      <td>اتقدم باحر التعازي لقناه الجزيره ولعاءله الفقي...</td>\n",
       "      <td>اتقدم باحر التعازي لقناه الجزيره و لعاءله الفق...</td>\n",
       "    </tr>\n",
       "    <tr>\n",
       "      <th>815</th>\n",
       "      <td>يجب تعديل الدستور اولا خصوصا الفصل ملك المغرب ...</td>\n",
       "      <td>يجب تعديل الدستور اولا خصوصا الفصل 19 ، ملك ال...</td>\n",
       "    </tr>\n",
       "    <tr>\n",
       "      <th>564</th>\n",
       "      <td>اين هي القرارات مما يجري في البحرين من قبل الع...</td>\n",
       "      <td>اين هي القرارات مما يجري في البحرين من قبل الع...</td>\n",
       "    </tr>\n",
       "    <tr>\n",
       "      <th>1340</th>\n",
       "      <td>ابارك لهءلاء هذه الاموال اسال الله ان يضعوها ف...</td>\n",
       "      <td>ابارك لهءلاء . . هذه الاموال اسال الله ان يضعو...</td>\n",
       "    </tr>\n",
       "    <tr>\n",
       "      <th>14691</th>\n",
       "      <td>ان الله اقسم وقال فلا وربك لا يءمنون حتي يحكمو...</td>\n",
       "      <td>ان الله اقسم و قال : فلا وربك لا يءمنون حتي يح...</td>\n",
       "    </tr>\n",
       "  </tbody>\n",
       "</table>\n",
       "</div>"
      ],
      "text/plain": [
       "                                                 correct  \\\n",
       "15270  اتقدم باحر التعازي لقناه الجزيره ولعاءله الفقي...   \n",
       "815    يجب تعديل الدستور اولا خصوصا الفصل ملك المغرب ...   \n",
       "564    اين هي القرارات مما يجري في البحرين من قبل الع...   \n",
       "1340   ابارك لهءلاء هذه الاموال اسال الله ان يضعوها ف...   \n",
       "14691  ان الله اقسم وقال فلا وربك لا يءمنون حتي يحكمو...   \n",
       "\n",
       "                                               incorrect  \n",
       "15270  اتقدم باحر التعازي لقناه الجزيره و لعاءله الفق...  \n",
       "815    يجب تعديل الدستور اولا خصوصا الفصل 19 ، ملك ال...  \n",
       "564    اين هي القرارات مما يجري في البحرين من قبل الع...  \n",
       "1340   ابارك لهءلاء . . هذه الاموال اسال الله ان يضعو...  \n",
       "14691  ان الله اقسم و قال : فلا وربك لا يءمنون حتي يح...  "
      ]
     },
     "execution_count": 15,
     "metadata": {},
     "output_type": "execute_result"
    }
   ],
   "source": [
    "df['correct'] = df['correct'].apply(lambda x: clean_text(x))\n",
    "\n",
    "df.sample(5)"
   ]
  },
  {
   "cell_type": "markdown",
   "metadata": {},
   "source": [
    "<h3>Add Noise in Text</h3>"
   ]
  },
  {
   "cell_type": "code",
   "execution_count": 21,
   "metadata": {
    "execution": {
     "iopub.execute_input": "2025-05-02T06:40:23.001121Z",
     "iopub.status.busy": "2025-05-02T06:40:23.000654Z",
     "iopub.status.idle": "2025-05-02T06:40:23.007308Z",
     "shell.execute_reply": "2025-05-02T06:40:23.006691Z",
     "shell.execute_reply.started": "2025-05-02T06:40:23.001101Z"
    },
    "trusted": true
   },
   "outputs": [],
   "source": [
    "def add_noise(sentence):\n",
    "    words = sentence.split()\n",
    "    \n",
    "    if not words:\n",
    "        return sentence\n",
    "\n",
    "    word_idx = random.randint(0, len(words) - 1)\n",
    "    word = list(words[word_idx])  # Convert the chosen word to a list of characters\n",
    "    n = len(word)\n",
    "\n",
    "    if n == 0:\n",
    "        return sentence\n",
    "\n",
    "    noise_type = random.choice([\"add\", \"delete\", \"swap\", \"replace\"])\n",
    "    idx = random.randint(0, n - 1) if n > 1 else 0\n",
    "    \n",
    "    arabic_chars = \"ابتثجحخدذرزسشصضطظعغفقكلمنهوي\"\n",
    "\n",
    "    if noise_type == \"add\":\n",
    "        random_char = random.choice(arabic_chars)\n",
    "        word.insert(idx, random_char)\n",
    "    elif noise_type == \"delete\" and n > 1:\n",
    "        word.pop(idx)\n",
    "    elif noise_type == \"swap\" and idx < n - 1:\n",
    "        word[idx], word[idx + 1] = word[idx + 1], word[idx]\n",
    "    elif noise_type == \"replace\":\n",
    "        word[idx] = random.choice(arabic_chars)\n",
    "\n",
    "    \n",
    "    words[word_idx] = ''.join(word)\n",
    "    return ' '.join(words)"
   ]
  },
  {
   "cell_type": "code",
   "execution_count": 22,
   "metadata": {
    "execution": {
     "iopub.execute_input": "2025-05-02T06:40:25.376100Z",
     "iopub.status.busy": "2025-05-02T06:40:25.375499Z",
     "iopub.status.idle": "2025-05-02T06:40:25.380133Z",
     "shell.execute_reply": "2025-05-02T06:40:25.379538Z",
     "shell.execute_reply.started": "2025-05-02T06:40:25.376076Z"
    },
    "trusted": true
   },
   "outputs": [
    {
     "name": "stdout",
     "output_type": "stream",
     "text": [
      "احب غلتي العربية\n"
     ]
    }
   ],
   "source": [
    "print(add_noise(\"احب لغتي العربية\"))"
   ]
  },
  {
   "cell_type": "code",
   "execution_count": 23,
   "metadata": {
    "execution": {
     "iopub.execute_input": "2025-05-02T06:40:27.493709Z",
     "iopub.status.busy": "2025-05-02T06:40:27.493459Z",
     "iopub.status.idle": "2025-05-02T06:40:27.657997Z",
     "shell.execute_reply": "2025-05-02T06:40:27.657441Z",
     "shell.execute_reply.started": "2025-05-02T06:40:27.493692Z"
    },
    "trusted": true
   },
   "outputs": [],
   "source": [
    "df['incorrect'] = df['correct'].apply(add_noise)"
   ]
  },
  {
   "cell_type": "code",
   "execution_count": 24,
   "metadata": {
    "execution": {
     "iopub.execute_input": "2025-05-02T06:40:31.858148Z",
     "iopub.status.busy": "2025-05-02T06:40:31.857514Z",
     "iopub.status.idle": "2025-05-02T06:40:31.865813Z",
     "shell.execute_reply": "2025-05-02T06:40:31.865042Z",
     "shell.execute_reply.started": "2025-05-02T06:40:31.858127Z"
    },
    "trusted": true
   },
   "outputs": [
    {
     "data": {
      "text/html": [
       "<div>\n",
       "<style scoped>\n",
       "    .dataframe tbody tr th:only-of-type {\n",
       "        vertical-align: middle;\n",
       "    }\n",
       "\n",
       "    .dataframe tbody tr th {\n",
       "        vertical-align: top;\n",
       "    }\n",
       "\n",
       "    .dataframe thead th {\n",
       "        text-align: right;\n",
       "    }\n",
       "</style>\n",
       "<table border=\"1\" class=\"dataframe\">\n",
       "  <thead>\n",
       "    <tr style=\"text-align: right;\">\n",
       "      <th></th>\n",
       "      <th>correct</th>\n",
       "      <th>incorrect</th>\n",
       "    </tr>\n",
       "  </thead>\n",
       "  <tbody>\n",
       "    <tr>\n",
       "      <th>0</th>\n",
       "      <td>سبحان الله الحكام العرب سيموت علي الكرسي ليظهر...</td>\n",
       "      <td>سبحان الله الحكام العرب سيموت علي الكرسي ليظهر...</td>\n",
       "    </tr>\n",
       "    <tr>\n",
       "      <th>1</th>\n",
       "      <td>النصر ات لا محال ان شاء الله من يءمن بالله وال...</td>\n",
       "      <td>النصر ات لا محال ان شاء الله من يءمن بالله وال...</td>\n",
       "    </tr>\n",
       "    <tr>\n",
       "      <th>2</th>\n",
       "      <td>الي كل شخص يعتقد ان بشار الاسد سوف يخرج من سور...</td>\n",
       "      <td>الي كل شخص يعتقد ان بشار الاسد سوف يخرج من سور...</td>\n",
       "    </tr>\n",
       "    <tr>\n",
       "      <th>3</th>\n",
       "      <td>الاسد وعصابته لحد الان غير مستوعبين انه رح ينق...</td>\n",
       "      <td>الاسد وعصابته لحد الان غير مستوعبين انه رح ينق...</td>\n",
       "    </tr>\n",
       "    <tr>\n",
       "      <th>4</th>\n",
       "      <td>النظام الاسدي تجاوز حتي ما فعله معمر القذافي ف...</td>\n",
       "      <td>النظام الاسدي تجاوز حتي ما فعله معمر القذافي ف...</td>\n",
       "    </tr>\n",
       "  </tbody>\n",
       "</table>\n",
       "</div>"
      ],
      "text/plain": [
       "                                             correct  \\\n",
       "0  سبحان الله الحكام العرب سيموت علي الكرسي ليظهر...   \n",
       "1  النصر ات لا محال ان شاء الله من يءمن بالله وال...   \n",
       "2  الي كل شخص يعتقد ان بشار الاسد سوف يخرج من سور...   \n",
       "3  الاسد وعصابته لحد الان غير مستوعبين انه رح ينق...   \n",
       "4  النظام الاسدي تجاوز حتي ما فعله معمر القذافي ف...   \n",
       "\n",
       "                                           incorrect  \n",
       "0  سبحان الله الحكام العرب سيموت علي الكرسي ليظهر...  \n",
       "1  النصر ات لا محال ان شاء الله من يءمن بالله وال...  \n",
       "2  الي كل شخص يعتقد ان بشار الاسد سوف يخرج من سور...  \n",
       "3  الاسد وعصابته لحد الان غير مستوعبين انه رح ينق...  \n",
       "4  النظام الاسدي تجاوز حتي ما فعله معمر القذافي ف...  "
      ]
     },
     "execution_count": 24,
     "metadata": {},
     "output_type": "execute_result"
    }
   ],
   "source": [
    "df.head()"
   ]
  },
  {
   "cell_type": "code",
   "execution_count": 26,
   "metadata": {
    "execution": {
     "iopub.execute_input": "2025-05-02T06:40:40.404557Z",
     "iopub.status.busy": "2025-05-02T06:40:40.404289Z",
     "iopub.status.idle": "2025-05-02T06:40:40.411909Z",
     "shell.execute_reply": "2025-05-02T06:40:40.410863Z",
     "shell.execute_reply.started": "2025-05-02T06:40:40.404536Z"
    },
    "trusted": true
   },
   "outputs": [
    {
     "name": "stdout",
     "output_type": "stream",
     "text": [
      "Sample 1:\n",
      "Incorrect: سبحان الله الحكام العرب سيموت علي الكرسي ليظهر انه عنيد وقوي لو كان بشار يحب ارضه او شعبه لخرج من الحكم شفقه ورحمه ببلد ضاع هنا زال قناع هذا الرءيس الذي خيب ظن شعبه والشعوب المسلمه كل مال السورين نفق في شراء سلاح ليقتل به شتان وحكام اوربا انذين يتركون الكرسي لمجرد فتنه بسيطه لحبهم لبلدهم\n",
      "-------\n",
      "Correct: سبحان الله الحكام العرب سيموت علي الكرسي ليظهر انه عنيد وقوي لو كان بشار يحب ارضه او شعبه لخرج من الحكم شفقه ورحمه ببلد ضاع هنا زال قناع هذا الرءيس الذي خيب ظن شعبه والشعوب المسلمه كل مال السورين نفق في شراء سلاح ليقتل به شتان وحكام اوربا الذين يتركون الكرسي لمجرد فتنه بسيطه لحبهم لبلدهم\n",
      "____________________________________________________________________\n",
      "Sample 2:\n",
      "Incorrect: النصر ات لا محال ان شاء الله من يءمن بالله واليوم الاخر والمطلع علي قصص الانبياء يري ان النصر من الله عولامات القيامه اتيه في تسلسل عجيب ان تنصروا الله ينصركم لا رجوع انما التغيير ات ليس من الرءساء انما من فوق سابع سماء\n",
      "-------\n",
      "Correct: النصر ات لا محال ان شاء الله من يءمن بالله واليوم الاخر والمطلع علي قصص الانبياء يري ان النصر من الله وعلامات القيامه اتيه في تسلسل عجيب ان تنصروا الله ينصركم لا رجوع انما التغيير ات ليس من الرءساء انما من فوق سابع سماء\n",
      "____________________________________________________________________\n",
      "Sample 3:\n",
      "Incorrect: الي كل شخص يعتقد ان بشار الاسد سوف يخرج من سوريا بدون محكمه فهو وهم ان بشار الاسد قتل الشعب سوري واقول لكل شخص سوري او غير سوري ان بشار وطغمته عثوا فسادا في سوريا عاما يكفي والاسلام اي الاسد حكمت فافنيت بلادا وخيرا اقول لكل شخص من الامن وجيش اتق الله في الشعب سوري البطل\n",
      "-------\n",
      "Correct: الي كل شخص يعتقد ان بشار الاسد سوف يخرج من سوريا بدون محكمه فهو وهم ان بشار الاسد قتل الشعب سوري واقول لكل شخص سوري او غير سوري ان بشار وطغمته عثوا فسادا في سوريا عاما يكفي والاسلام اي الاسد حكمت فافنيت بلادا وخيرا اقول لكل شخص من الامن وجيش اتق الله في الشعب سوري البطل\n",
      "____________________________________________________________________\n",
      "Sample 4:\n",
      "Incorrect: الاسد وعصابته لحد الان غير مستوعبين انه رح ينقلعوا من فوق رقاب الشعب السوري يعني لسع راكبه براسهم ان هذر الشعب قطيع غنم ما يحل ولا يربط ونهايته الذبح تماما كالقذافي ومن اثر الصدمه بدات التصرفات العنيفه بالقتل والاعتقال والتعذيب اعتقد بان الكثيرين سوف لن يفيقوا من الصدمه ابدا لانهم سيلحقوا بشهداءنا باذن الرب\n",
      "-------\n",
      "Correct: الاسد وعصابته لحد الان غير مستوعبين انه رح ينقلعوا من فوق رقاب الشعب السوري يعني لسع راكبه براسهم ان هذا الشعب قطيع غنم ما يحل ولا يربط ونهايته الذبح تماما كالقذافي ومن اثر الصدمه بدات التصرفات العنيفه بالقتل والاعتقال والتعذيب اعتقد بان الكثيرين سوف لن يفيقوا من الصدمه ابدا لانهم سيلحقوا بشهداءنا باذن الرب\n",
      "____________________________________________________________________\n",
      "Sample 5:\n",
      "Incorrect: النظام الاسدي تجاوز حتي ما فعله معمر القذافي في ليبيا فهناك كانت المعركه مختلفه حيث وقعت بين طرفين نظام العقيد والثوار وكلاهما يحمل السلاح بوجه الاخر الدبابه مقابل الدبابه والرشاش مقابل الرشاش بينما العكس تماما في سوريا حيث ان النظام الاسدي هو من يحمل السلاح وهو من يعربد به بينما الثوار السوريو مسالمون\n",
      "-------\n",
      "Correct: النظام الاسدي تجاوز حتي ما فعله معمر القذافي في ليبيا فهناك كانت المعركه مختلفه حيث وقعت بين طرفين نظام العقيد والثوار وكلاهما يحمل السلاح بوجه الاخر الدبابه مقابل الدبابه والرشاش مقابل الرشاش بينما العكس تماما في سوريا حيث ان النظام الاسدي هو من يحمل السلاح وهو من يعربد به بينما الثوار السوريون مسالمون\n",
      "____________________________________________________________________\n",
      "Sample 6:\n",
      "Incorrect: سوريا ام للسوريين او لبشار وعصابته لن تنتهي هذه الثوره الا بان بقي سوريا حره ليس فيها مكان لقتله الاطفال والنساء الشعب السوري لن يرضي ان يحكمه خاءن قتل ابناء سوريا لو استمرت الثوره للاجيال القادمه لن يخذل الشهداء وسوف تنتصر الثوره وستجر اذيال الخيبه عصابه الطغيان الله معكم يا احرار سوريا\n",
      "-------\n",
      "Correct: سوريا ام للسوريين او لبشار وعصابته لن تنتهي هذه الثوره الا بان تبقي سوريا حره ليس فيها مكان لقتله الاطفال والنساء الشعب السوري لن يرضي ان يحكمه خاءن قتل ابناء سوريا لو استمرت الثوره للاجيال القادمه لن يخذل الشهداء وسوف تنتصر الثوره وستجر اذيال الخيبه عصابه الطغيان الله معكم يا احرار سوريا\n",
      "____________________________________________________________________\n",
      "Sample 7:\n",
      "Incorrect: التاريخ يعيد نفسه الاخاون المجرمون يقتلون ويغتالون باسم الاسلام يقتلون عاءلات باكملها باسم الاسلام ويمدون ايديهم للاجنبي والي عملاء الاجنبي ليقبضوا المال وياخذوا السلاح ليغتالوا هذا الوطن ويضعفوا هذا الوطن سوري هذا ما يفعله الاخوان المجرمون الله محي الجيش العربي السوري\n",
      "-------\n",
      "Correct: التاريخ يعيد نفسه الاخوان المجرمون يقتلون ويغتالون باسم الاسلام يقتلون عاءلات باكملها باسم الاسلام ويمدون ايديهم للاجنبي والي عملاء الاجنبي ليقبضوا المال وياخذوا السلاح ليغتالوا هذا الوطن ويضعفوا هذا الوطن سوري هذا ما يفعله الاخوان المجرمون الله محي الجيش العربي السوري\n",
      "____________________________________________________________________\n",
      "Sample 8:\n",
      "Incorrect: عار علكيم يا امه الاسلام لعدم مساعدتكم لنا نحن الشعب السوري الذي نقتل كل يوم بدم بارد وعلي مسمع العالم الاسلامي اجمع اين انتم يا اشباه الرجال والله العظيم لن نتراجع عن اسقاط النظام والمطالبه باعدامه في ساحه المرجه والنظام البعثي يعرف شو هي ساحه المرجه\n",
      "-------\n",
      "Correct: عار عليكم يا امه الاسلام لعدم مساعدتكم لنا نحن الشعب السوري الذي نقتل كل يوم بدم بارد وعلي مسمع العالم الاسلامي اجمع اين انتم يا اشباه الرجال والله العظيم لن نتراجع عن اسقاط النظام والمطالبه باعدامه في ساحه المرجه والنظام البعثي يعرف شو هي ساحه المرجه\n",
      "____________________________________________________________________\n",
      "Sample 9:\n",
      "Incorrect: تنويه عقخرب هي قريه تقع في سهل الحوله وتتبع اداريا لمحافطه حماه سكانها من الاغلبيه السنيه ويوجد بها اقليه علويه نصيريه حوالي قام اليوم شبيحه النظام من الطاءفه العلويه بارتكاب مجزره بحق السكان المدنيين من السنه والطاءفه العلويه\n",
      "-------\n",
      "Correct: تنويه عقرب هي قريه تقع في سهل الحوله وتتبع اداريا لمحافطه حماه سكانها من الاغلبيه السنيه ويوجد بها اقليه علويه نصيريه حوالي قام اليوم شبيحه النظام من الطاءفه العلويه بارتكاب مجزره بحق السكان المدنيين من السنه والطاءفه العلويه\n",
      "____________________________________________________________________\n",
      "Sample 10:\n",
      "Incorrect: ضحكوا علينا بحرب العراق عام وعام وحرب ليبيا وهاهم يحولون ربيعنا الي خريف وشتاء وباسم مطالبنا المحقه حرفونا الي الفتنه وكره بعضنا بحربهم الاعلاميه والعم سام اصبح المهتم الاكبر بحريتنا وحسوقنا بوضع سوريا الحبيبه الان ستكون خيانه عظمي من بشار اذا فكر بالاستقاله\n",
      "-------\n",
      "Correct: ضحكوا علينا بحرب العراق عام وعام وحرب ليبيا وهاهم يحولون ربيعنا الي خريف وشتاء وباسم مطالبنا المحقه حرفونا الي الفتنه وكره بعضنا بحربهم الاعلاميه والعم سام اصبح المهتم الاكبر بحريتنا وحقوقنا بوضع سوريا الحبيبه الان ستكون خيانه عظمي من بشار اذا فكر بالاستقاله\n",
      "____________________________________________________________________\n"
     ]
    }
   ],
   "source": [
    "incorrect_sentences = df['incorrect'].tolist()\n",
    "correct_sentences = df['correct'].tolist()\n",
    "\n",
    "for i in range(10):\n",
    "    print(f\"Sample {i+1}:\\nIncorrect: {incorrect_sentences[i]}\\n-------\\nCorrect: {correct_sentences[i]}\")\n",
    "    print(\"____________________________________________________________________\")"
   ]
  },
  {
   "cell_type": "markdown",
   "metadata": {},
   "source": [
    "<h3>Tokenizing Text</h3>"
   ]
  },
  {
   "cell_type": "code",
   "execution_count": 27,
   "metadata": {
    "execution": {
     "iopub.execute_input": "2025-05-02T06:40:45.529407Z",
     "iopub.status.busy": "2025-05-02T06:40:45.528797Z",
     "iopub.status.idle": "2025-05-02T06:40:46.836010Z",
     "shell.execute_reply": "2025-05-02T06:40:46.835172Z",
     "shell.execute_reply.started": "2025-05-02T06:40:45.529383Z"
    },
    "trusted": true
   },
   "outputs": [],
   "source": [
    "tokenizer = tf.keras.preprocessing.text.Tokenizer()\n",
    "tokenizer.fit_on_texts(df['correct'])"
   ]
  },
  {
   "cell_type": "code",
   "execution_count": 28,
   "metadata": {
    "execution": {
     "iopub.execute_input": "2025-05-02T06:40:46.837495Z",
     "iopub.status.busy": "2025-05-02T06:40:46.837205Z",
     "iopub.status.idle": "2025-05-02T06:40:48.637826Z",
     "shell.execute_reply": "2025-05-02T06:40:48.637251Z",
     "shell.execute_reply.started": "2025-05-02T06:40:46.837469Z"
    },
    "trusted": true
   },
   "outputs": [],
   "source": [
    "# Convert texts to sequences\n",
    "correct_sequences = tokenizer.texts_to_sequences(df['correct'])\n",
    "incorrect_sequences = tokenizer.texts_to_sequences(df['incorrect'])"
   ]
  },
  {
   "cell_type": "code",
   "execution_count": 29,
   "metadata": {
    "execution": {
     "iopub.execute_input": "2025-05-02T06:40:48.638633Z",
     "iopub.status.busy": "2025-05-02T06:40:48.638380Z",
     "iopub.status.idle": "2025-05-02T06:40:48.834090Z",
     "shell.execute_reply": "2025-05-02T06:40:48.833278Z",
     "shell.execute_reply.started": "2025-05-02T06:40:48.638609Z"
    },
    "trusted": true
   },
   "outputs": [],
   "source": [
    "# Pad sequences to ensure uniform length\n",
    "max_len = max(\n",
    "    max(len(seq) for seq in correct_sequences),\n",
    "    max(len(seq) for seq in incorrect_sequences)\n",
    ")\n",
    "\n",
    "correct_padded = tf.keras.preprocessing.sequence.pad_sequences(correct_sequences, maxlen=max_len, padding='post')\n",
    "incorrect_padded = tf.keras.preprocessing.sequence.pad_sequences(incorrect_sequences, maxlen=max_len, padding='post')"
   ]
  },
  {
   "cell_type": "code",
   "execution_count": 30,
   "metadata": {
    "execution": {
     "iopub.execute_input": "2025-05-02T06:40:48.835584Z",
     "iopub.status.busy": "2025-05-02T06:40:48.835342Z",
     "iopub.status.idle": "2025-05-02T06:40:48.839378Z",
     "shell.execute_reply": "2025-05-02T06:40:48.838759Z",
     "shell.execute_reply.started": "2025-05-02T06:40:48.835568Z"
    },
    "trusted": true
   },
   "outputs": [
    {
     "name": "stdout",
     "output_type": "stream",
     "text": [
      "Vocabulary size: 100808\n",
      "Maximum sequence length: 394\n"
     ]
    }
   ],
   "source": [
    "print(f\"Vocabulary size: {len(tokenizer.word_index)}\")\n",
    "print(f\"Maximum sequence length: {max_len}\")"
   ]
  },
  {
   "cell_type": "markdown",
   "metadata": {},
   "source": [
    "<h2>Splitting Data into Training, Validation, and Test Sets</h2>"
   ]
  },
  {
   "cell_type": "code",
   "execution_count": 31,
   "metadata": {
    "execution": {
     "iopub.execute_input": "2025-05-02T06:40:54.089944Z",
     "iopub.status.busy": "2025-05-02T06:40:54.089690Z",
     "iopub.status.idle": "2025-05-02T06:40:54.149812Z",
     "shell.execute_reply": "2025-05-02T06:40:54.149262Z",
     "shell.execute_reply.started": "2025-05-02T06:40:54.089925Z"
    },
    "trusted": true
   },
   "outputs": [],
   "source": [
    "# Split data into temp(train+val) and test\n",
    "X_temp, X_test, y_temp, y_test = train_test_split(incorrect_padded, correct_padded, test_size=0.1, random_state=42)\n",
    "\n",
    "# Split temp(train+val) into train and val\n",
    "X_train, X_val, y_train, y_val = train_test_split(X_temp, y_temp, test_size=0.2, random_state=42)"
   ]
  },
  {
   "cell_type": "code",
   "execution_count": 32,
   "metadata": {
    "execution": {
     "iopub.execute_input": "2025-05-02T06:40:54.349699Z",
     "iopub.status.busy": "2025-05-02T06:40:54.349450Z",
     "iopub.status.idle": "2025-05-02T06:40:54.354260Z",
     "shell.execute_reply": "2025-05-02T06:40:54.353503Z",
     "shell.execute_reply.started": "2025-05-02T06:40:54.349681Z"
    },
    "trusted": true
   },
   "outputs": [
    {
     "name": "stdout",
     "output_type": "stream",
     "text": [
      "X_train shape: (14839, 394)\n",
      "X_val shape: (3710, 394)\n",
      "X_test shape: (2061, 394)\n",
      "y_train shape: (14839, 394)\n",
      "y_val shape: (3710, 394)\n",
      "y_test shape: (2061, 394)\n"
     ]
    }
   ],
   "source": [
    "print(f\"X_train shape: {X_train.shape}\")\n",
    "print(f\"X_val shape: {X_val.shape}\")\n",
    "print(f\"X_test shape: {X_test.shape}\")\n",
    "print(f\"y_train shape: {y_train.shape}\")\n",
    "print(f\"y_val shape: {y_val.shape}\")\n",
    "print(f\"y_test shape: {y_test.shape}\")"
   ]
  },
  {
   "cell_type": "markdown",
   "metadata": {},
   "source": [
    "<h2>LSTM Model</h2>"
   ]
  },
  {
   "cell_type": "code",
   "execution_count": 30,
   "metadata": {
    "execution": {
     "iopub.execute_input": "2025-04-26T12:02:23.368237Z",
     "iopub.status.busy": "2025-04-26T12:02:23.367630Z",
     "iopub.status.idle": "2025-04-26T12:02:23.412700Z",
     "shell.execute_reply": "2025-04-26T12:02:23.411991Z",
     "shell.execute_reply.started": "2025-04-26T12:02:23.368218Z"
    },
    "trusted": true
   },
   "outputs": [],
   "source": [
    "# Model architecture\n",
    "input_layer = Input(shape=(max_len,))\n",
    "embedding_output = Embedding(input_dim=len(tokenizer.word_index) + 1, output_dim=128)(input_layer)\n",
    "encoder = LSTM(128, return_sequences=True)(embedding_output)\n",
    "decoder = Dense(len(tokenizer.word_index) + 1, activation='softmax')(encoder)\n",
    "\n",
    "auto_correct_model = Model(input_layer, decoder)\n",
    "\n",
    "auto_correct_model.compile(optimizer=Adam(), loss='sparse_categorical_crossentropy', metrics=['accuracy'])\n",
    "\n",
    "early_stop = EarlyStopping(monitor='val_loss', patience=3, restore_best_weights=True)"
   ]
  },
  {
   "cell_type": "code",
   "execution_count": 31,
   "metadata": {
    "execution": {
     "iopub.execute_input": "2025-04-26T12:02:25.403547Z",
     "iopub.status.busy": "2025-04-26T12:02:25.403282Z",
     "iopub.status.idle": "2025-04-26T12:02:25.421450Z",
     "shell.execute_reply": "2025-04-26T12:02:25.420899Z",
     "shell.execute_reply.started": "2025-04-26T12:02:25.403530Z"
    },
    "trusted": true
   },
   "outputs": [
    {
     "data": {
      "text/html": [
       "<pre style=\"white-space:pre;overflow-x:auto;line-height:normal;font-family:Menlo,'DejaVu Sans Mono',consolas,'Courier New',monospace\"><span style=\"font-weight: bold\">Model: \"functional_1\"</span>\n",
       "</pre>\n"
      ],
      "text/plain": [
       "\u001b[1mModel: \"functional_1\"\u001b[0m\n"
      ]
     },
     "metadata": {},
     "output_type": "display_data"
    },
    {
     "data": {
      "text/html": [
       "<pre style=\"white-space:pre;overflow-x:auto;line-height:normal;font-family:Menlo,'DejaVu Sans Mono',consolas,'Courier New',monospace\">┏━━━━━━━━━━━━━━━━━━━━━━━━━━━━━━━━━━━━━━┳━━━━━━━━━━━━━━━━━━━━━━━━━━━━━┳━━━━━━━━━━━━━━━━━┓\n",
       "┃<span style=\"font-weight: bold\"> Layer (type)                         </span>┃<span style=\"font-weight: bold\"> Output Shape                </span>┃<span style=\"font-weight: bold\">         Param # </span>┃\n",
       "┡━━━━━━━━━━━━━━━━━━━━━━━━━━━━━━━━━━━━━━╇━━━━━━━━━━━━━━━━━━━━━━━━━━━━━╇━━━━━━━━━━━━━━━━━┩\n",
       "│ input_layer_1 (<span style=\"color: #0087ff; text-decoration-color: #0087ff\">InputLayer</span>)           │ (<span style=\"color: #00d7ff; text-decoration-color: #00d7ff\">None</span>, <span style=\"color: #00af00; text-decoration-color: #00af00\">394</span>)                 │               <span style=\"color: #00af00; text-decoration-color: #00af00\">0</span> │\n",
       "├──────────────────────────────────────┼─────────────────────────────┼─────────────────┤\n",
       "│ embedding_1 (<span style=\"color: #0087ff; text-decoration-color: #0087ff\">Embedding</span>)              │ (<span style=\"color: #00d7ff; text-decoration-color: #00d7ff\">None</span>, <span style=\"color: #00af00; text-decoration-color: #00af00\">394</span>, <span style=\"color: #00af00; text-decoration-color: #00af00\">128</span>)            │      <span style=\"color: #00af00; text-decoration-color: #00af00\">12,912,000</span> │\n",
       "├──────────────────────────────────────┼─────────────────────────────┼─────────────────┤\n",
       "│ lstm_1 (<span style=\"color: #0087ff; text-decoration-color: #0087ff\">LSTM</span>)                        │ (<span style=\"color: #00d7ff; text-decoration-color: #00d7ff\">None</span>, <span style=\"color: #00af00; text-decoration-color: #00af00\">394</span>, <span style=\"color: #00af00; text-decoration-color: #00af00\">128</span>)            │         <span style=\"color: #00af00; text-decoration-color: #00af00\">131,584</span> │\n",
       "├──────────────────────────────────────┼─────────────────────────────┼─────────────────┤\n",
       "│ dense_1 (<span style=\"color: #0087ff; text-decoration-color: #0087ff\">Dense</span>)                      │ (<span style=\"color: #00d7ff; text-decoration-color: #00d7ff\">None</span>, <span style=\"color: #00af00; text-decoration-color: #00af00\">394</span>, <span style=\"color: #00af00; text-decoration-color: #00af00\">100875</span>)         │      <span style=\"color: #00af00; text-decoration-color: #00af00\">13,012,875</span> │\n",
       "└──────────────────────────────────────┴─────────────────────────────┴─────────────────┘\n",
       "</pre>\n"
      ],
      "text/plain": [
       "┏━━━━━━━━━━━━━━━━━━━━━━━━━━━━━━━━━━━━━━┳━━━━━━━━━━━━━━━━━━━━━━━━━━━━━┳━━━━━━━━━━━━━━━━━┓\n",
       "┃\u001b[1m \u001b[0m\u001b[1mLayer (type)                        \u001b[0m\u001b[1m \u001b[0m┃\u001b[1m \u001b[0m\u001b[1mOutput Shape               \u001b[0m\u001b[1m \u001b[0m┃\u001b[1m \u001b[0m\u001b[1m        Param #\u001b[0m\u001b[1m \u001b[0m┃\n",
       "┡━━━━━━━━━━━━━━━━━━━━━━━━━━━━━━━━━━━━━━╇━━━━━━━━━━━━━━━━━━━━━━━━━━━━━╇━━━━━━━━━━━━━━━━━┩\n",
       "│ input_layer_1 (\u001b[38;5;33mInputLayer\u001b[0m)           │ (\u001b[38;5;45mNone\u001b[0m, \u001b[38;5;34m394\u001b[0m)                 │               \u001b[38;5;34m0\u001b[0m │\n",
       "├──────────────────────────────────────┼─────────────────────────────┼─────────────────┤\n",
       "│ embedding_1 (\u001b[38;5;33mEmbedding\u001b[0m)              │ (\u001b[38;5;45mNone\u001b[0m, \u001b[38;5;34m394\u001b[0m, \u001b[38;5;34m128\u001b[0m)            │      \u001b[38;5;34m12,912,000\u001b[0m │\n",
       "├──────────────────────────────────────┼─────────────────────────────┼─────────────────┤\n",
       "│ lstm_1 (\u001b[38;5;33mLSTM\u001b[0m)                        │ (\u001b[38;5;45mNone\u001b[0m, \u001b[38;5;34m394\u001b[0m, \u001b[38;5;34m128\u001b[0m)            │         \u001b[38;5;34m131,584\u001b[0m │\n",
       "├──────────────────────────────────────┼─────────────────────────────┼─────────────────┤\n",
       "│ dense_1 (\u001b[38;5;33mDense\u001b[0m)                      │ (\u001b[38;5;45mNone\u001b[0m, \u001b[38;5;34m394\u001b[0m, \u001b[38;5;34m100875\u001b[0m)         │      \u001b[38;5;34m13,012,875\u001b[0m │\n",
       "└──────────────────────────────────────┴─────────────────────────────┴─────────────────┘\n"
      ]
     },
     "metadata": {},
     "output_type": "display_data"
    },
    {
     "data": {
      "text/html": [
       "<pre style=\"white-space:pre;overflow-x:auto;line-height:normal;font-family:Menlo,'DejaVu Sans Mono',consolas,'Courier New',monospace\"><span style=\"font-weight: bold\"> Total params: </span><span style=\"color: #00af00; text-decoration-color: #00af00\">26,056,459</span> (99.40 MB)\n",
       "</pre>\n"
      ],
      "text/plain": [
       "\u001b[1m Total params: \u001b[0m\u001b[38;5;34m26,056,459\u001b[0m (99.40 MB)\n"
      ]
     },
     "metadata": {},
     "output_type": "display_data"
    },
    {
     "data": {
      "text/html": [
       "<pre style=\"white-space:pre;overflow-x:auto;line-height:normal;font-family:Menlo,'DejaVu Sans Mono',consolas,'Courier New',monospace\"><span style=\"font-weight: bold\"> Trainable params: </span><span style=\"color: #00af00; text-decoration-color: #00af00\">26,056,459</span> (99.40 MB)\n",
       "</pre>\n"
      ],
      "text/plain": [
       "\u001b[1m Trainable params: \u001b[0m\u001b[38;5;34m26,056,459\u001b[0m (99.40 MB)\n"
      ]
     },
     "metadata": {},
     "output_type": "display_data"
    },
    {
     "data": {
      "text/html": [
       "<pre style=\"white-space:pre;overflow-x:auto;line-height:normal;font-family:Menlo,'DejaVu Sans Mono',consolas,'Courier New',monospace\"><span style=\"font-weight: bold\"> Non-trainable params: </span><span style=\"color: #00af00; text-decoration-color: #00af00\">0</span> (0.00 B)\n",
       "</pre>\n"
      ],
      "text/plain": [
       "\u001b[1m Non-trainable params: \u001b[0m\u001b[38;5;34m0\u001b[0m (0.00 B)\n"
      ]
     },
     "metadata": {},
     "output_type": "display_data"
    }
   ],
   "source": [
    "auto_correct_model.summary()"
   ]
  },
  {
   "cell_type": "code",
   "execution_count": 33,
   "metadata": {
    "execution": {
     "iopub.execute_input": "2025-04-26T12:03:05.292647Z",
     "iopub.status.busy": "2025-04-26T12:03:05.292361Z",
     "iopub.status.idle": "2025-04-26T13:51:26.751366Z",
     "shell.execute_reply": "2025-04-26T13:51:26.750609Z",
     "shell.execute_reply.started": "2025-04-26T12:03:05.292628Z"
    },
    "trusted": true
   },
   "outputs": [
    {
     "name": "stdout",
     "output_type": "stream",
     "text": [
      "Epoch 1/10\n",
      "\u001b[1m928/928\u001b[0m \u001b[32m━━━━━━━━━━━━━━━━━━━━\u001b[0m\u001b[37m\u001b[0m \u001b[1m640s\u001b[0m 690ms/step - accuracy: 0.8735 - loss: 1.2802 - val_accuracy: 0.8766 - val_loss: 1.1080\n",
      "Epoch 2/10\n",
      "\u001b[1m928/928\u001b[0m \u001b[32m━━━━━━━━━━━━━━━━━━━━\u001b[0m\u001b[37m\u001b[0m \u001b[1m648s\u001b[0m 699ms/step - accuracy: 0.8795 - loss: 1.0684 - val_accuracy: 0.8894 - val_loss: 1.0223\n",
      "Epoch 3/10\n",
      "\u001b[1m928/928\u001b[0m \u001b[32m━━━━━━━━━━━━━━━━━━━━\u001b[0m\u001b[37m\u001b[0m \u001b[1m650s\u001b[0m 701ms/step - accuracy: 0.8936 - loss: 0.9563 - val_accuracy: 0.9037 - val_loss: 0.9099\n",
      "Epoch 4/10\n",
      "\u001b[1m928/928\u001b[0m \u001b[32m━━━━━━━━━━━━━━━━━━━━\u001b[0m\u001b[37m\u001b[0m \u001b[1m651s\u001b[0m 701ms/step - accuracy: 0.9078 - loss: 0.8136 - val_accuracy: 0.9138 - val_loss: 0.8213\n",
      "Epoch 5/10\n",
      "\u001b[1m928/928\u001b[0m \u001b[32m━━━━━━━━━━━━━━━━━━━━\u001b[0m\u001b[37m\u001b[0m \u001b[1m651s\u001b[0m 702ms/step - accuracy: 0.9194 - loss: 0.6874 - val_accuracy: 0.9202 - val_loss: 0.7574\n",
      "Epoch 6/10\n",
      "\u001b[1m928/928\u001b[0m \u001b[32m━━━━━━━━━━━━━━━━━━━━\u001b[0m\u001b[37m\u001b[0m \u001b[1m651s\u001b[0m 702ms/step - accuracy: 0.9301 - loss: 0.5784 - val_accuracy: 0.9249 - val_loss: 0.7096\n",
      "Epoch 7/10\n",
      "\u001b[1m928/928\u001b[0m \u001b[32m━━━━━━━━━━━━━━━━━━━━\u001b[0m\u001b[37m\u001b[0m \u001b[1m652s\u001b[0m 703ms/step - accuracy: 0.9391 - loss: 0.4891 - val_accuracy: 0.9267 - val_loss: 0.6767\n",
      "Epoch 8/10\n",
      "\u001b[1m928/928\u001b[0m \u001b[32m━━━━━━━━━━━━━━━━━━━━\u001b[0m\u001b[37m\u001b[0m \u001b[1m652s\u001b[0m 703ms/step - accuracy: 0.9476 - loss: 0.4074 - val_accuracy: 0.9293 - val_loss: 0.6558\n",
      "Epoch 9/10\n",
      "\u001b[1m928/928\u001b[0m \u001b[32m━━━━━━━━━━━━━━━━━━━━\u001b[0m\u001b[37m\u001b[0m \u001b[1m652s\u001b[0m 703ms/step - accuracy: 0.9539 - loss: 0.3466 - val_accuracy: 0.9280 - val_loss: 0.6447\n",
      "Epoch 10/10\n",
      "\u001b[1m928/928\u001b[0m \u001b[32m━━━━━━━━━━━━━━━━━━━━\u001b[0m\u001b[37m\u001b[0m \u001b[1m652s\u001b[0m 703ms/step - accuracy: 0.9596 - loss: 0.2949 - val_accuracy: 0.9297 - val_loss: 0.6317\n"
     ]
    }
   ],
   "source": [
    "# Model Training\n",
    "history = auto_correct_model.fit(X_train, y_train,\n",
    "                    validation_data=(X_val, y_val),\n",
    "                    batch_size=16, epochs=10, callbacks=[early_stop])"
   ]
  },
  {
   "cell_type": "code",
   "execution_count": 34,
   "metadata": {
    "execution": {
     "iopub.execute_input": "2025-04-26T13:52:24.989651Z",
     "iopub.status.busy": "2025-04-26T13:52:24.989049Z",
     "iopub.status.idle": "2025-04-26T13:52:25.630855Z",
     "shell.execute_reply": "2025-04-26T13:52:25.630118Z",
     "shell.execute_reply.started": "2025-04-26T13:52:24.989624Z"
    },
    "trusted": true
   },
   "outputs": [
    {
     "data": {
      "image/png": "[encoded data removed]",
      "text/plain": [
       "<Figure size 1600x600 with 2 Axes>"
      ]
     },
     "metadata": {},
     "output_type": "display_data"
    }
   ],
   "source": [
    "# Visualize Training History\n",
    "\n",
    "sns.set(style=\"whitegrid\")\n",
    "plt.rcParams[\"figure.figsize\"] = (16, 6)\n",
    "plt.rcParams[\"font.size\"] = 14\n",
    "\n",
    "fig, (ax1, ax2) = plt.subplots(1, 2)\n",
    "\n",
    "# Plot Loss\n",
    "ax1.plot(history.history['loss'], label='Train Loss', color='royalblue', linewidth=2.5, marker='o')\n",
    "ax1.plot(history.history['val_loss'], label='Validation Loss', color='darkorange', linewidth=2.5, marker='o')\n",
    "ax1.set_title('Model Loss Over Epochs', fontsize=18)\n",
    "ax1.set_xlabel('Epoch', fontsize=14)\n",
    "ax1.set_ylabel('Loss', fontsize=14)\n",
    "ax1.legend(fontsize=12)\n",
    "ax1.grid(True)\n",
    "\n",
    "# Plot Accuracy\n",
    "ax2.plot(history.history['accuracy'], label='Train Accuracy', color='seagreen', linewidth=2.5, marker='o')\n",
    "ax2.plot(history.history['val_accuracy'], label='Validation Accuracy', color='crimson', linewidth=2.5, marker='o')\n",
    "ax2.set_title('Model Accuracy Over Epochs', fontsize=18)\n",
    "ax2.set_xlabel('Epoch', fontsize=14)\n",
    "ax2.set_ylabel('Accuracy', fontsize=14)\n",
    "ax2.legend(fontsize=12)\n",
    "ax2.grid(True)\n",
    "\n",
    "plt.suptitle(\"Training & Validation Performance\", fontsize=20, weight='bold')\n",
    "plt.tight_layout(rect=[0, 0, 1, 0.95])\n",
    "plt.show()\n"
   ]
  },
  {
   "cell_type": "code",
   "execution_count": 35,
   "metadata": {
    "execution": {
     "iopub.execute_input": "2025-04-26T13:52:35.001231Z",
     "iopub.status.busy": "2025-04-26T13:52:35.000959Z",
     "iopub.status.idle": "2025-04-26T13:53:34.865601Z",
     "shell.execute_reply": "2025-04-26T13:53:34.864854Z",
     "shell.execute_reply.started": "2025-04-26T13:52:35.001211Z"
    },
    "trusted": true
   },
   "outputs": [
    {
     "name": "stdout",
     "output_type": "stream",
     "text": [
      "\u001b[1m258/258\u001b[0m \u001b[32m━━━━━━━━━━━━━━━━━━━━\u001b[0m\u001b[37m\u001b[0m \u001b[1m60s\u001b[0m 231ms/step - accuracy: 0.9295 - loss: 0.6330\n",
      "\n",
      "Test Loss: 0.6195\n",
      "Test Accuracy: 0.9306\n"
     ]
    }
   ],
   "source": [
    "# Evaluate on Test Data\n",
    "test_loss, test_accuracy = auto_correct_model.evaluate(X_test, y_test, batch_size=8)\n",
    "print(f\"\\nTest Loss: {test_loss:.4f}\")\n",
    "print(f\"Test Accuracy: {test_accuracy:.4f}\")"
   ]
  },
  {
   "cell_type": "code",
   "execution_count": 37,
   "metadata": {
    "execution": {
     "iopub.execute_input": "2025-04-26T13:53:54.805097Z",
     "iopub.status.busy": "2025-04-26T13:53:54.804678Z",
     "iopub.status.idle": "2025-04-26T13:53:55.956107Z",
     "shell.execute_reply": "2025-04-26T13:53:55.955323Z",
     "shell.execute_reply.started": "2025-04-26T13:53:54.805076Z"
    },
    "trusted": true
   },
   "outputs": [],
   "source": [
    "# Save Model and Tokenizer\n",
    "import pickle\n",
    "auto_correct_model.save('arabic_auto_correction_model.h5')\n",
    "with open('tokenizer.pkl', 'wb') as f:\n",
    "    pickle.dump(tokenizer, f)"
   ]
  },
  {
   "cell_type": "markdown",
   "metadata": {},
   "source": [
    "<h2>Twitter's twhin-bert-large Model</h2>"
   ]
  },
  {
   "cell_type": "code",
   "execution_count": 16,
   "metadata": {
    "execution": {
     "iopub.execute_input": "2025-05-02T09:30:28.787364Z",
     "iopub.status.busy": "2025-05-02T09:30:28.787094Z",
     "iopub.status.idle": "2025-05-02T09:30:28.791861Z",
     "shell.execute_reply": "2025-05-02T09:30:28.791051Z",
     "shell.execute_reply.started": "2025-05-02T09:30:28.787345Z"
    },
    "trusted": true
   },
   "outputs": [
    {
     "name": "stdout",
     "output_type": "stream",
     "text": [
      "Using device: cuda\n"
     ]
    }
   ],
   "source": [
    "# Device Setup\n",
    "device = torch.device(\"cuda\" if torch.cuda.is_available() else \"cpu\")\n",
    "print(f\"Using device: {device}\")"
   ]
  },
  {
   "cell_type": "code",
   "execution_count": 17,
   "metadata": {
    "execution": {
     "iopub.execute_input": "2025-05-02T09:30:32.373352Z",
     "iopub.status.busy": "2025-05-02T09:30:32.372704Z",
     "iopub.status.idle": "2025-05-02T09:31:04.646618Z",
     "shell.execute_reply": "2025-05-02T09:31:04.645844Z",
     "shell.execute_reply.started": "2025-05-02T09:30:32.373332Z"
    },
    "trusted": true
   },
   "outputs": [
    {
     "data": {
      "application/vnd.jupyter.widget-view+json": {
       "model_id": "c548cf4b3759444b9a5556f04302ad09",
       "version_major": 2,
       "version_minor": 0
      },
      "text/plain": [
       "tokenizer_config.json:   0%|          | 0.00/373 [00:00<?, ?B/s]"
      ]
     },
     "metadata": {},
     "output_type": "display_data"
    },
    {
     "data": {
      "application/vnd.jupyter.widget-view+json": {
       "model_id": "55627a8f825648f9b7db9bb145ee4df5",
       "version_major": 2,
       "version_minor": 0
      },
      "text/plain": [
       "tokenizer.json:   0%|          | 0.00/17.1M [00:00<?, ?B/s]"
      ]
     },
     "metadata": {},
     "output_type": "display_data"
    },
    {
     "data": {
      "application/vnd.jupyter.widget-view+json": {
       "model_id": "edc01472434947c694920ab148e3ac50",
       "version_major": 2,
       "version_minor": 0
      },
      "text/plain": [
       "special_tokens_map.json:   0%|          | 0.00/239 [00:00<?, ?B/s]"
      ]
     },
     "metadata": {},
     "output_type": "display_data"
    },
    {
     "data": {
      "application/vnd.jupyter.widget-view+json": {
       "model_id": "bc183e9b24b9404da04f33373614965e",
       "version_major": 2,
       "version_minor": 0
      },
      "text/plain": [
       "config.json:   0%|          | 0.00/634 [00:00<?, ?B/s]"
      ]
     },
     "metadata": {},
     "output_type": "display_data"
    },
    {
     "data": {
      "application/vnd.jupyter.widget-view+json": {
       "model_id": "7f0df0fb8565458382b5b1965eed2398",
       "version_major": 2,
       "version_minor": 0
      },
      "text/plain": [
       "model.safetensors:   0%|          | 0.00/2.25G [00:00<?, ?B/s]"
      ]
     },
     "metadata": {},
     "output_type": "display_data"
    }
   ],
   "source": [
    "# Base Model Initialization\n",
    "tokenizer = AutoTokenizer.from_pretrained(\"Twitter/twhin-bert-large\")\n",
    "model = AutoModelForMaskedLM.from_pretrained(\"Twitter/twhin-bert-large\").to(device)"
   ]
  },
  {
   "cell_type": "code",
   "execution_count": 18,
   "metadata": {
    "execution": {
     "iopub.execute_input": "2025-05-02T09:31:06.641013Z",
     "iopub.status.busy": "2025-05-02T09:31:06.640279Z",
     "iopub.status.idle": "2025-05-02T09:31:06.645347Z",
     "shell.execute_reply": "2025-05-02T09:31:06.644566Z",
     "shell.execute_reply.started": "2025-05-02T09:31:06.640977Z"
    },
    "trusted": true
   },
   "outputs": [],
   "source": [
    "# Data Collator Setup\n",
    "data_collator = DataCollatorForLanguageModeling(tokenizer=tokenizer, mlm_probability=0.15, return_tensors='pt')"
   ]
  },
  {
   "cell_type": "code",
   "execution_count": 19,
   "metadata": {
    "execution": {
     "iopub.execute_input": "2025-05-02T09:31:20.627084Z",
     "iopub.status.busy": "2025-05-02T09:31:20.626366Z",
     "iopub.status.idle": "2025-05-02T09:31:20.630897Z",
     "shell.execute_reply": "2025-05-02T09:31:20.630255Z",
     "shell.execute_reply.started": "2025-05-02T09:31:20.627061Z"
    },
    "trusted": true
   },
   "outputs": [],
   "source": [
    "# Creates word frequency dictionary from dataframe\n",
    "def build_vocab_freq(dataframe):\n",
    "    word_counter = Counter()\n",
    "    for _, row in dataframe.iterrows():\n",
    "        word_counter.update(row['correct'].split())\n",
    "    return word_counter"
   ]
  },
  {
   "cell_type": "code",
   "execution_count": 20,
   "metadata": {
    "execution": {
     "iopub.execute_input": "2025-05-02T09:31:23.454042Z",
     "iopub.status.busy": "2025-05-02T09:31:23.453794Z",
     "iopub.status.idle": "2025-05-02T09:31:23.458315Z",
     "shell.execute_reply": "2025-05-02T09:31:23.457707Z",
     "shell.execute_reply.started": "2025-05-02T09:31:23.454025Z"
    },
    "trusted": true
   },
   "outputs": [],
   "source": [
    "# Generates sentences with rare words masked\n",
    "def generate_masked_versions(text:str, vocab_freq:dict):\n",
    "    words = text.split()\n",
    "    masked_sentences = []\n",
    "\n",
    "    for idx, word in enumerate(words):\n",
    "        if vocab_freq.get(word, 0) == 0:\n",
    "            modified_words = words.copy()\n",
    "            modified_words[idx] = \"<mask>\"\n",
    "            masked_sentences.append(\" \".join(modified_words))\n",
    "            \n",
    "    return masked_sentences"
   ]
  },
  {
   "cell_type": "code",
   "execution_count": 21,
   "metadata": {
    "execution": {
     "iopub.execute_input": "2025-05-02T09:31:29.953731Z",
     "iopub.status.busy": "2025-05-02T09:31:29.953088Z",
     "iopub.status.idle": "2025-05-02T09:31:29.958423Z",
     "shell.execute_reply": "2025-05-02T09:31:29.957696Z",
     "shell.execute_reply.started": "2025-05-02T09:31:29.953712Z"
    },
    "trusted": true
   },
   "outputs": [],
   "source": [
    "# Combines original sentence with predicted words\n",
    "def reconstruct_sentence(masked_sentences, predicted_words):\n",
    "    final_sentence = []\n",
    "    mask_positions = {}  # {sentence_idx: word_idx}\n",
    "\n",
    "    # Locate all mask positions\n",
    "    for sent_idx, sentence in enumerate(masked_sentences):\n",
    "        for word_idx, word in enumerate(sentence.split()):\n",
    "            if word == '<mask>':\n",
    "                mask_positions[sent_idx] = word_idx\n",
    "\n",
    "    # Build final sentence\n",
    "    for sent_idx, sentence in enumerate(masked_sentences):\n",
    "        words = sentence.split()\n",
    "        for word_idx, word in enumerate(words):\n",
    "            if word_idx in mask_positions.values():\n",
    "                if predicted_words:  # Insert prediction if available\n",
    "                    final_sentence.append(predicted_words.pop(0))\n",
    "            elif word not in final_sentence:  # Avoid duplicates\n",
    "                final_sentence.append(word)\n",
    "                \n",
    "    return ' '.join(final_sentence)"
   ]
  },
  {
   "cell_type": "code",
   "execution_count": 22,
   "metadata": {
    "execution": {
     "iopub.execute_input": "2025-05-02T09:31:34.906558Z",
     "iopub.status.busy": "2025-05-02T09:31:34.905899Z",
     "iopub.status.idle": "2025-05-02T09:31:34.910281Z",
     "shell.execute_reply": "2025-05-02T09:31:34.909412Z",
     "shell.execute_reply.started": "2025-05-02T09:31:34.906536Z"
    },
    "trusted": true
   },
   "outputs": [],
   "source": [
    "def tokenize_text(text_data):\n",
    "    tokenized_output = tokenizer(text_data[\"correct\"], truncation=True, padding=\"max_length\", max_length=128)\n",
    "    return {**tokenized_output}"
   ]
  },
  {
   "cell_type": "code",
   "execution_count": 24,
   "metadata": {
    "execution": {
     "iopub.execute_input": "2025-05-02T09:32:34.277834Z",
     "iopub.status.busy": "2025-05-02T09:32:34.277226Z",
     "iopub.status.idle": "2025-05-02T09:32:34.286095Z",
     "shell.execute_reply": "2025-05-02T09:32:34.285303Z",
     "shell.execute_reply.started": "2025-05-02T09:32:34.277814Z"
    },
    "trusted": true
   },
   "outputs": [
    {
     "data": {
      "text/html": [
       "<div>\n",
       "<style scoped>\n",
       "    .dataframe tbody tr th:only-of-type {\n",
       "        vertical-align: middle;\n",
       "    }\n",
       "\n",
       "    .dataframe tbody tr th {\n",
       "        vertical-align: top;\n",
       "    }\n",
       "\n",
       "    .dataframe thead th {\n",
       "        text-align: right;\n",
       "    }\n",
       "</style>\n",
       "<table border=\"1\" class=\"dataframe\">\n",
       "  <thead>\n",
       "    <tr style=\"text-align: right;\">\n",
       "      <th></th>\n",
       "      <th>correct</th>\n",
       "    </tr>\n",
       "  </thead>\n",
       "  <tbody>\n",
       "    <tr>\n",
       "      <th>0</th>\n",
       "      <td>سبحان الله الحكام العرب سيموت علي الكرسي ليظهر...</td>\n",
       "    </tr>\n",
       "    <tr>\n",
       "      <th>1</th>\n",
       "      <td>النصر ات لا محال ان شاء الله من يءمن بالله وال...</td>\n",
       "    </tr>\n",
       "    <tr>\n",
       "      <th>2</th>\n",
       "      <td>الي كل شخص يعتقد ان بشار الاسد سوف يخرج من سور...</td>\n",
       "    </tr>\n",
       "    <tr>\n",
       "      <th>3</th>\n",
       "      <td>الاسد وعصابته لحد الان غير مستوعبين انه رح ينق...</td>\n",
       "    </tr>\n",
       "    <tr>\n",
       "      <th>4</th>\n",
       "      <td>النظام الاسدي تجاوز حتي ما فعله معمر القذافي ف...</td>\n",
       "    </tr>\n",
       "  </tbody>\n",
       "</table>\n",
       "</div>"
      ],
      "text/plain": [
       "                                             correct\n",
       "0  سبحان الله الحكام العرب سيموت علي الكرسي ليظهر...\n",
       "1  النصر ات لا محال ان شاء الله من يءمن بالله وال...\n",
       "2  الي كل شخص يعتقد ان بشار الاسد سوف يخرج من سور...\n",
       "3  الاسد وعصابته لحد الان غير مستوعبين انه رح ينق...\n",
       "4  النظام الاسدي تجاوز حتي ما فعله معمر القذافي ف..."
      ]
     },
     "execution_count": 24,
     "metadata": {},
     "output_type": "execute_result"
    }
   ],
   "source": [
    "new_df = df[['correct']]\n",
    "new_df.head()"
   ]
  },
  {
   "cell_type": "code",
   "execution_count": 25,
   "metadata": {
    "execution": {
     "iopub.execute_input": "2025-05-02T09:32:41.195481Z",
     "iopub.status.busy": "2025-05-02T09:32:41.194941Z",
     "iopub.status.idle": "2025-05-02T09:32:42.670018Z",
     "shell.execute_reply": "2025-05-02T09:32:42.669323Z",
     "shell.execute_reply.started": "2025-05-02T09:32:41.195455Z"
    },
    "trusted": true
   },
   "outputs": [
    {
     "data": {
      "application/vnd.jupyter.widget-view+json": {
       "model_id": "8211def3e20d40dea0884ddaa9d57c9b",
       "version_major": 2,
       "version_minor": 0
      },
      "text/plain": [
       "Map:   0%|          | 0/2000 [00:00<?, ? examples/s]"
      ]
     },
     "metadata": {},
     "output_type": "display_data"
    },
    {
     "data": {
      "text/plain": [
       "DatasetDict({\n",
       "    train: Dataset({\n",
       "        features: ['__index_level_0__', 'input_ids', 'attention_mask'],\n",
       "        num_rows: 1600\n",
       "    })\n",
       "    test: Dataset({\n",
       "        features: ['__index_level_0__', 'input_ids', 'attention_mask'],\n",
       "        num_rows: 400\n",
       "    })\n",
       "})"
      ]
     },
     "execution_count": 25,
     "metadata": {},
     "output_type": "execute_result"
    }
   ],
   "source": [
    "# Generate vocabulary frequency dictionary\n",
    "vocabulary_frequencies = build_vocab_freq(df)\n",
    "\n",
    "# Convert DataFrame to HuggingFace Dataset (using first 2000 samples)\n",
    "text_dataset = Dataset.from_pandas(new_df[:2000]) \n",
    "\n",
    "# Tokenize all texts in the dataset\n",
    "tokenized_dataset = text_dataset.map(\n",
    "    tokenize_text, \n",
    "    batched=True, \n",
    "    remove_columns=['correct']  # Remove original text column after tokenization\n",
    ")\n",
    "\n",
    "# Split into train/test sets\n",
    "dataset = tokenized_dataset.train_test_split(\n",
    "    test_size=0.2, \n",
    "    shuffle=True,\n",
    "    seed=42\n",
    ")\n",
    "\n",
    "dataset"
   ]
  },
  {
   "cell_type": "code",
   "execution_count": null,
   "metadata": {
    "execution": {
     "iopub.execute_input": "2025-05-02T09:32:54.006340Z",
     "iopub.status.busy": "2025-05-02T09:32:54.005806Z",
     "iopub.status.idle": "2025-05-02T09:32:54.208123Z",
     "shell.execute_reply": "2025-05-02T09:32:54.207606Z",
     "shell.execute_reply.started": "2025-05-02T09:32:54.006320Z"
    },
    "trusted": true
   },
   "outputs": [],
   "source": [
    "training_args = TrainingArguments(\n",
    "    output_dir=\"./model\",                  \n",
    "    eval_strategy=\"epoch\",            \n",
    "    learning_rate=1e-5,                    \n",
    "    num_train_epochs=2,                    \n",
    "    weight_decay=5e-4,                     \n",
    "    per_device_train_batch_size=4,         \n",
    "    per_device_eval_batch_size=4,          \n",
    "    push_to_hub=True,                     \n",
    "    logging_steps=10,                      \n",
    "    eval_steps=10,                         \n",
    "    save_strategy=\"epoch\",  \n",
    "    report_to=\"none\",   \n",
    "    fp16=True,\n",
    ")\n",
    "\n",
    "trainer = Trainer(\n",
    "    model=model,\n",
    "    args=training_args,\n",
    "    train_dataset=dataset[\"train\"],\n",
    "    eval_dataset=dataset[\"test\"],\n",
    "    data_collator=data_collator,\n",
    "    tokenizer=tokenizer,\n",
    ")"
   ]
  },
  {
   "cell_type": "code",
   "execution_count": 27,
   "metadata": {
    "execution": {
     "iopub.execute_input": "2025-05-02T09:33:00.653326Z",
     "iopub.status.busy": "2025-05-02T09:33:00.652643Z",
     "iopub.status.idle": "2025-05-02T09:44:15.373022Z",
     "shell.execute_reply": "2025-05-02T09:44:15.372364Z",
     "shell.execute_reply.started": "2025-05-02T09:33:00.653305Z"
    },
    "trusted": true
   },
   "outputs": [
    {
     "name": "stderr",
     "output_type": "stream",
     "text": [
      "BertSdpaSelfAttention is used but `torch.nn.functional.scaled_dot_product_attention` does not support non-absolute `position_embedding_type` or `output_attentions=True` or `head_mask`. Falling back to the manual attention implementation, but specifying the manual implementation will be required from Transformers version v5.0.0 onwards. This warning can be removed using the argument `attn_implementation=\"eager\"` when loading the model.\n"
     ]
    },
    {
     "data": {
      "text/html": [
       "\n",
       "    <div>\n",
       "      \n",
       "      <progress value='400' max='400' style='width:300px; height:20px; vertical-align: middle;'></progress>\n",
       "      [400/400 10:05, Epoch 2/2]\n",
       "    </div>\n",
       "    <table border=\"1\" class=\"dataframe\">\n",
       "  <thead>\n",
       " <tr style=\"text-align: left;\">\n",
       "      <th>Epoch</th>\n",
       "      <th>Training Loss</th>\n",
       "      <th>Validation Loss</th>\n",
       "    </tr>\n",
       "  </thead>\n",
       "  <tbody>\n",
       "    <tr>\n",
       "      <td>1</td>\n",
       "      <td>2.095800</td>\n",
       "      <td>2.092511</td>\n",
       "    </tr>\n",
       "    <tr>\n",
       "      <td>2</td>\n",
       "      <td>2.079100</td>\n",
       "      <td>1.996902</td>\n",
       "    </tr>\n",
       "  </tbody>\n",
       "</table><p>"
      ],
      "text/plain": [
       "<IPython.core.display.HTML object>"
      ]
     },
     "metadata": {},
     "output_type": "display_data"
    },
    {
     "data": {
      "text/plain": [
       "TrainOutput(global_step=400, training_loss=2.2036471557617188, metrics={'train_runtime': 608.6631, 'train_samples_per_second': 5.257, 'train_steps_per_second': 0.657, 'total_flos': 746159490662400.0, 'train_loss': 2.2036471557617188, 'epoch': 2.0})"
      ]
     },
     "execution_count": 27,
     "metadata": {},
     "output_type": "execute_result"
    }
   ],
   "source": [
    "trainer.train()"
   ]
  },
  {
   "cell_type": "code",
   "execution_count": 28,
   "metadata": {
    "execution": {
     "iopub.execute_input": "2025-05-02T09:46:50.824170Z",
     "iopub.status.busy": "2025-05-02T09:46:50.823454Z",
     "iopub.status.idle": "2025-05-02T09:47:19.019109Z",
     "shell.execute_reply": "2025-05-02T09:47:19.018322Z",
     "shell.execute_reply.started": "2025-05-02T09:46:50.824148Z"
    },
    "trusted": true
   },
   "outputs": [],
   "source": [
    "trainer.save_model(\"/kaggle/working/model\")"
   ]
  },
  {
   "cell_type": "code",
   "execution_count": 29,
   "metadata": {
    "execution": {
     "iopub.execute_input": "2025-05-02T09:50:29.870814Z",
     "iopub.status.busy": "2025-05-02T09:50:29.870162Z",
     "iopub.status.idle": "2025-05-02T09:54:45.656952Z",
     "shell.execute_reply": "2025-05-02T09:54:45.655912Z",
     "shell.execute_reply.started": "2025-05-02T09:50:29.870790Z"
    },
    "trusted": true
   },
   "outputs": [
    {
     "name": "stdout",
     "output_type": "stream",
     "text": [
      "  adding: kaggle/working/model/ (stored 0%)\n",
      "  adding: kaggle/working/model/config.json (deflated 47%)\n",
      "  adding: kaggle/working/model/checkpoint-400/ (stored 0%)\n",
      "  adding: kaggle/working/model/checkpoint-400/optimizer.pt"
     ]
    },
    {
     "name": "stderr",
     "output_type": "stream",
     "text": [
      "huggingface/tokenizers: The current process just got forked, after parallelism has already been used. Disabling parallelism to avoid deadlocks...\n",
      "To disable this warning, you can either:\n",
      "\t- Avoid using `tokenizers` before the fork if possible\n",
      "\t- Explicitly set the environment variable TOKENIZERS_PARALLELISM=(true | false)\n"
     ]
    },
    {
     "name": "stdout",
     "output_type": "stream",
     "text": [
      " (deflated 7%)\n",
      "  adding: kaggle/working/model/checkpoint-400/config.json (deflated 47%)\n",
      "  adding: kaggle/working/model/checkpoint-400/trainer_state.json (deflated 81%)\n",
      "  adding: kaggle/working/model/checkpoint-400/scaler.pt (deflated 60%)\n",
      "  adding: kaggle/working/model/checkpoint-400/training_args.bin (deflated 51%)\n",
      "  adding: kaggle/working/model/checkpoint-400/tokenizer.json (deflated 76%)\n",
      "  adding: kaggle/working/model/checkpoint-400/model.safetensors\n",
      "zip I/O error: No space left on device\n",
      "zip error: Output file write failure (write error on zip file)\n"
     ]
    }
   ],
   "source": [
    "!zip -r /kaggle/working/model.zip /kaggle/working/model"
   ]
  },
  {
   "cell_type": "code",
   "execution_count": 30,
   "metadata": {
    "execution": {
     "iopub.execute_input": "2025-05-02T09:55:15.022837Z",
     "iopub.status.busy": "2025-05-02T09:55:15.022491Z",
     "iopub.status.idle": "2025-05-02T09:55:16.282117Z",
     "shell.execute_reply": "2025-05-02T09:55:16.281279Z",
     "shell.execute_reply.started": "2025-05-02T09:55:15.022813Z"
    },
    "trusted": true
   },
   "outputs": [],
   "source": [
    "model = AutoModelForMaskedLM.from_pretrained(\"/kaggle/working/model\").to(device)"
   ]
  },
  {
   "cell_type": "code",
   "execution_count": 33,
   "metadata": {
    "execution": {
     "iopub.execute_input": "2025-05-02T10:00:41.191561Z",
     "iopub.status.busy": "2025-05-02T10:00:41.190934Z",
     "iopub.status.idle": "2025-05-02T10:00:41.196527Z",
     "shell.execute_reply": "2025-05-02T10:00:41.195726Z",
     "shell.execute_reply.started": "2025-05-02T10:00:41.191538Z"
    },
    "trusted": true
   },
   "outputs": [],
   "source": [
    "def predict(input_text):\n",
    "    # Tokenize input text\n",
    "    tokenized_input = tokenizer(input_text, return_tensors='pt').to(device)\n",
    "\n",
    "    # Mask the token corresponding to the masked word\n",
    "    mask_token_index = torch.where(tokenized_input['input_ids'] == tokenizer.mask_token_id)\n",
    "\n",
    "    # Generate predictions\n",
    "    with torch.no_grad():\n",
    "        outputs = model(**tokenized_input) # fORWARD PASS\n",
    "\n",
    "    # Extract predicted token ID\n",
    "    predicted_token_id = torch.argmax(outputs.logits[mask_token_index]).item()\n",
    "\n",
    "    # Decode the predicted token ID\n",
    "    predicted_token = tokenizer.decode(predicted_token_id)\n",
    "\n",
    "    return predicted_token"
   ]
  },
  {
   "cell_type": "code",
   "execution_count": 34,
   "metadata": {
    "execution": {
     "iopub.execute_input": "2025-05-02T10:00:43.738530Z",
     "iopub.status.busy": "2025-05-02T10:00:43.738257Z",
     "iopub.status.idle": "2025-05-02T10:00:44.780677Z",
     "shell.execute_reply": "2025-05-02T10:00:44.779901Z",
     "shell.execute_reply.started": "2025-05-02T10:00:43.738510Z"
    },
    "trusted": true
   },
   "outputs": [],
   "source": [
    "def pipeline(input_text):\n",
    "    arr_input = generate_masked_versions(input_text,words_freq)\n",
    "    masked = []\n",
    "    for sentence in arr_input:\n",
    "        mask = predict(sentence)\n",
    "        masked.append(mask)\n",
    "\n",
    "    true_sentence = reconstruct_sentence(arr_input,masked)\n",
    "\n",
    "    return true_sentence\n",
    "# Get the vocab of the dataset\n",
    "words_freq = build_vocab_freq(df)"
   ]
  },
  {
   "cell_type": "code",
   "execution_count": 86,
   "metadata": {
    "execution": {
     "iopub.execute_input": "2025-05-02T10:30:35.800863Z",
     "iopub.status.busy": "2025-05-02T10:30:35.800494Z",
     "iopub.status.idle": "2025-05-02T10:30:36.377731Z",
     "shell.execute_reply": "2025-05-02T10:30:36.377091Z",
     "shell.execute_reply.started": "2025-05-02T10:30:35.800841Z"
    },
    "trusted": true
   },
   "outputs": [
    {
     "name": "stdout",
     "output_type": "stream",
     "text": [
      "Incorrect Sentence: عار علككيم يا امه الاسسلام لعدم مساعدتكم لنا نحن السعب السوري الذي نقتل كل يوم بدم بارد وعلي مسمع العالم الاسلامي\n",
      "Corrected Sentence: عار عليكم يا امه الاسلام لعدم مساعدتكم لنا نحن الشعب السوري الذي نقتل كل يوم بدم بارد وعلي مسمع العالم الاسلامي\n",
      "--------------------------------------------------\n",
      "Incorrect Sentence: العرب لا يتعلمون من دروس التازيخ، كل حاكم يتسك بالسلطه حتي يهدم بلده بيديه.\n",
      "Corrected Sentence: العرب لا يتعلمون من دروس التاريخ كل حاكم يرغب بالسلطه حتي يهدم بلده .\n",
      "--------------------------------------------------\n",
      "Incorrect Sentence: لا أمل في من باع نفسه للمصالح الشخصيه\n",
      "Corrected Sentence: لا خير في من باع نفسه للمصالح الشخصيه\n",
      "--------------------------------------------------\n",
      "Incorrect Sentence: نحن احرار الامه الاسلاميه و لن نسمح بحدوث حرب في الوطن العر\n",
      "Corrected Sentence: نحن احرار الامه الاسلاميه و لن نسمح بحدوث حرب في الوطن العربي\n",
      "--------------------------------------------------\n",
      "Incorrect Sentence: وززارة النربية والتعليم تعلن عن تعطبل الدراسة رسميا يوم السسبت نظرا للظروف الجوية الحالييه وحفاظا على المعلمون و الططلاب\n",
      "Corrected Sentence: وزارة التربية والتعليم تعلن عن تعليق الدراسة رسميا يوم السبت نظرا للظروف الصحية الحالية وحفاظا علي المعلمون و الطلاب\n",
      "--------------------------------------------------\n"
     ]
    }
   ],
   "source": [
    "# Example list of sentences\n",
    "sentences = [\n",
    "   \"عار علككيم يا امه الاسسلام لعدم مساعدتكم لنا نحن السعب السوري الذي نقتل كل يوم بدم بارد وعلي مسمع العالم الاسلامي\",\n",
    "    \"العرب لا يتعلمون من دروس التازيخ، كل حاكم يتسك بالسلطه حتي يهدم بلده بيديه.\",\n",
    "    \"لا أمل في من باع نفسه للمصالح الشخصيه\",\n",
    "    \"نحن احرار الامه الاسلاميه و لن نسمح بحدوث حرب في الوطن العر\",\n",
    "    \"وززارة النربية والتعليم تعلن عن تعطبل الدراسة رسميا يوم السسبت نظرا للظروف الجوية الحالييه وحفاظا على المعلمون و الططلاب\"\n",
    "]\n",
    "\n",
    "# Loop over each sentence\n",
    "for input_text in sentences:\n",
    "    true_sentence = pipeline(input_text)\n",
    "    \n",
    "    print('Incorrect Sentence:', input_text)\n",
    "    print('Corrected Sentence:', true_sentence)\n",
    "    print('-' * 50)\n"
   ]
  }
 ],
 "metadata": {
  "kaggle": {
   "accelerator": "nvidiaTeslaT4",
   "dataSources": [
    {
     "datasetId": 4798275,
     "sourceId": 8120575,
     "sourceType": "datasetVersion"
    }
   ],
   "dockerImageVersionId": 31012,
   "isGpuEnabled": true,
   "isInternetEnabled": true,
   "language": "python",
   "sourceType": "notebook"
  },
  "kernelspec": {
   "display_name": "Python 3",
   "language": "python",
   "name": "python3"
  },
  "language_info": {
   "codemirror_mode": {
    "name": "ipython",
    "version": 3
   },
   "file_extension": ".py",
   "mimetype": "text/x-python",
   "name": "python",
   "nbconvert_exporter": "python",
   "pygments_lexer": "ipython3",
   "version": "3.11.11"
  }
 },
 "nbformat": 4,
 "nbformat_minor": 4
}
